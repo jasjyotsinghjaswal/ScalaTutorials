{
 "cells": [
  {
   "cell_type": "code",
   "execution_count": null,
   "metadata": {},
   "outputs": [],
   "source": []
  },
  {
   "cell_type": "code",
   "execution_count": 31,
   "metadata": {},
   "outputs": [
    {
     "data": {
      "text/plain": [
       "import java.util.concurrent.Executors\n"
      ]
     },
     "execution_count": 31,
     "metadata": {},
     "output_type": "execute_result"
    }
   ],
   "source": [
    "import java.util.concurrent.Executors"
   ]
  },
  {
   "cell_type": "code",
   "execution_count": 26,
   "metadata": {},
   "outputs": [
    {
     "data": {
      "text/plain": [
       "defined object Intro\n"
      ]
     },
     "execution_count": 26,
     "metadata": {},
     "output_type": "execute_result"
    }
   ],
   "source": [
    "object Intro extends App{\n",
    "    \n",
    "//JVM Threads\n",
    "val aThread=new Thread(new Runnable{\n",
    "    override def run():Unit=println(\"Running in Parallel \")\n",
    "})\n",
    "\n",
    "//Create a JVM thread that runs on top of OS Thread\n",
    "aThread.start    \n",
    "//blocks until thread has finished running\n",
    "aThread.join\n",
    "//Different runs produce different results in Multi Threaded environment\n",
    "val threadHello=new Thread(new Runnable{\n",
    "    override def run():Unit=(1 to 5).foreach(x=>{Thread.sleep(10);println(\"Running - Hello:\"+x)})\n",
    "})\n",
    "val threadBye=new Thread(new Runnable{\n",
    "    override def run():Unit=(1 to 5).foreach(x=>{Thread.sleep(10);println(\"Running - Bye:\"+x)})\n",
    "})\n",
    "threadHello.start()\n",
    "threadBye.start()\n",
    "}"
   ]
  },
  {
   "cell_type": "code",
   "execution_count": 27,
   "metadata": {},
   "outputs": [
    {
     "name": "stdout",
     "output_type": "stream",
     "text": [
      "Running in Parallel \n",
      "Running - Hello:1\n",
      "Running - Hello:2\n",
      "Running - Bye:1\n",
      "Running - Hello:3\n",
      "Running - Bye:2\n",
      "Running - Hello:4\n",
      "Running - Bye:3\n",
      "Running - Bye:4\n",
      "Running - Hello:5\n",
      "Running - Bye:5\n"
     ]
    }
   ],
   "source": [
    "Intro.main(Array())"
   ]
  },
  {
   "cell_type": "code",
   "execution_count": 58,
   "metadata": {},
   "outputs": [
    {
     "data": {
      "text/plain": [
       "defined object ThreadPoolDemo\n"
      ]
     },
     "execution_count": 58,
     "metadata": {},
     "output_type": "execute_result"
    }
   ],
   "source": [
    "object ThreadPoolDemo extends App{\n",
    "    \n",
    "//Executors\n",
    "    val pool=Executors.newFixedThreadPool(10)\n",
    "    pool.execute(new Runnable{\n",
    "        override def run():Unit={\n",
    "        //Thread.sleep(1000)\n",
    "        println(\"1st Thread Execution 1\")\n",
    "        Thread.sleep(1000)\n",
    "        println(\"1st Thread Execution 2\")\n",
    "        }\n",
    "    })\n",
    "    pool.execute(new Runnable{\n",
    "        override def run():Unit={\n",
    "        //Thread.sleep(1000)\n",
    "        println(\"2nd Thread Execution 1\")\n",
    "        Thread.sleep(1000)\n",
    "        println(\"2nd Thread Execution 2\")\n",
    "        }\n",
    "    })\n",
    "    //Shutdown all the threads\n",
    "    //pool.shutdown()\n",
    "    //Interrupts threads currently running in pool that are in sleep\n",
    "    pool.shutdownNow()\n",
    "}"
   ]
  },
  {
   "cell_type": "code",
   "execution_count": 59,
   "metadata": {},
   "outputs": [
    {
     "name": "stdout",
     "output_type": "stream",
     "text": [
      "1st Thread Execution 1\n",
      "2nd Thread Execution 1\n"
     ]
    }
   ],
   "source": [
    "ThreadPoolDemo.main(Array())"
   ]
  },
  {
   "cell_type": "code",
   "execution_count": null,
   "metadata": {},
   "outputs": [],
   "source": []
  },
  {
   "cell_type": "code",
   "execution_count": null,
   "metadata": {},
   "outputs": [],
   "source": []
  }
 ],
 "metadata": {
  "kernelspec": {
   "display_name": "spylon-kernel",
   "language": "scala",
   "name": "spylon-kernel"
  },
  "language_info": {
   "codemirror_mode": "text/x-scala",
   "file_extension": ".scala",
   "help_links": [
    {
     "text": "MetaKernel Magics",
     "url": "https://metakernel.readthedocs.io/en/latest/source/README.html"
    }
   ],
   "mimetype": "text/x-scala",
   "name": "scala",
   "pygments_lexer": "scala",
   "version": "0.4.1"
  }
 },
 "nbformat": 4,
 "nbformat_minor": 2
}
