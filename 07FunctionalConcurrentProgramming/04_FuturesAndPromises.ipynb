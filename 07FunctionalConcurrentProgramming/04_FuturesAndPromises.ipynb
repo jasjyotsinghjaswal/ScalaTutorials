{
 "cells": [
  {
   "cell_type": "code",
   "execution_count": 58,
   "metadata": {},
   "outputs": [
    {
     "data": {
      "text/plain": [
       "import scala.concurrent.Future\r\n",
       "import scala.concurrent.ExecutionContext.Implicits.global\r\n",
       "import scala.io.Source\r\n",
       "import scala.util.{Try, Success, Failure}\r\n",
       "import java.lang.Exception\n"
      ]
     },
     "execution_count": 58,
     "metadata": {},
     "output_type": "execute_result"
    }
   ],
   "source": [
    "import scala.concurrent.Future\n",
    "import scala.concurrent.ExecutionContext.Implicits.global\n",
    "import scala.io.Source\n",
    "import scala.util.{Try,Success,Failure}\n",
    "import java.lang.Exception"
   ]
  },
  {
   "cell_type": "code",
   "execution_count": 33,
   "metadata": {},
   "outputs": [
    {
     "data": {
      "text/plain": [
       "defined object FuturesAndPromises1\n"
      ]
     },
     "execution_count": 33,
     "metadata": {},
     "output_type": "execute_result"
    }
   ],
   "source": [
    "object FuturesAndPromises1 extends App{\n",
    "    \n",
    "    def calMeanLife:Int={\n",
    "        Thread.sleep(2000)\n",
    "        42\n",
    "    }\n",
    "    val aFuture=Future{\n",
    "        calMeanLife\n",
    "    }\n",
    "    \n",
    "    println(aFuture.value)//Option[Try[Int]]\n",
    "    println(\"waiting for Future\")\n",
    "    aFuture.onComplete(t=>t match {\n",
    "        case Success(mean) => println(\"Mean of Life is : \"+mean)\n",
    "        case Failure(e) => println(\"Exception is : \"+e)\n",
    "    })//Some thread\n",
    "    \n",
    "    println(\"After On COmplete Block\")\n",
    "    //aFuture.onComplete()\n",
    "\n",
    "    \n",
    "    \n",
    "}"
   ]
  },
  {
   "cell_type": "code",
   "execution_count": 34,
   "metadata": {},
   "outputs": [
    {
     "name": "stdout",
     "output_type": "stream",
     "text": [
      "None\n",
      "waiting for Future\n",
      "After On COmplete Block\n",
      "Mean of Life is : 42\n"
     ]
    }
   ],
   "source": [
    "FuturesAndPromises1.main(Array())"
   ]
  },
  {
   "cell_type": "code",
   "execution_count": 35,
   "metadata": {},
   "outputs": [],
   "source": [
    "//Map .Flatmap,Filter,ForComprehension can work directly on Future"
   ]
  }
 ],
 "metadata": {
  "kernelspec": {
   "display_name": "spylon-kernel",
   "language": "scala",
   "name": "spylon-kernel"
  },
  "language_info": {
   "codemirror_mode": "text/x-scala",
   "file_extension": ".scala",
   "help_links": [
    {
     "text": "MetaKernel Magics",
     "url": "https://metakernel.readthedocs.io/en/latest/source/README.html"
    }
   ],
   "mimetype": "text/x-scala",
   "name": "scala",
   "pygments_lexer": "scala",
   "version": "0.4.1"
  }
 },
 "nbformat": 4,
 "nbformat_minor": 2
}
