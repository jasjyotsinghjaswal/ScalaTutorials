{
 "cells": [
  {
   "cell_type": "markdown",
   "metadata": {},
   "source": [
    "### Extending a class means inheriting non private field/method of superclass\n",
    "### Scala offers single class inheritance"
   ]
  },
  {
   "cell_type": "markdown",
   "metadata": {},
   "source": [
    "### Access modifiers in Scala are private public and protected\n",
    "### Protected members are only visible from subclass \n",
    "### Private  members are avaialble only from within\n"
   ]
  },
  {
   "cell_type": "code",
   "execution_count": 4,
   "metadata": {},
   "outputs": [
    {
     "name": "stdout",
     "output_type": "stream",
     "text": [
      "Animal Eats\n"
     ]
    },
    {
     "data": {
      "text/plain": [
       "defined object Inheritance\n"
      ]
     },
     "execution_count": 4,
     "metadata": {},
     "output_type": "execute_result"
    }
   ],
   "source": [
    "object Inheritance extends App{\n",
    "    class Animal{\n",
    "        def eat=println(\"Animal Eats\")\n",
    "    }\n",
    "    class Dog extends Animal{\n",
    "        \n",
    "    }\n",
    "    val d=new Dog()\n",
    "    d.eat\n",
    "}\n",
    "Inheritance.main(Array())"
   ]
  },
  {
   "cell_type": "code",
   "execution_count": 6,
   "metadata": {},
   "outputs": [
    {
     "ename": "<console>",
     "evalue": "34: error: value eat is not a member of Inheritance.Dog\r",
     "output_type": "error",
     "traceback": [
      "<console>:34: error: value eat is not a member of Inheritance.Dog\r",
      "           d.eat //fails due to private modifier\r",
      "             ^",
      ""
     ]
    }
   ],
   "source": [
    "object Inheritance extends App{\n",
    "    class Animal{\n",
    "       private def eat=println(\"Animal Eats\")\n",
    "    }\n",
    "    class Dog extends Animal{\n",
    "        \n",
    "    }\n",
    "    val d=new Dog()\n",
    "    d.eat //fails due to private modifier\n",
    "}\n",
    "Inheritance.main(Array())"
   ]
  },
  {
   "cell_type": "code",
   "execution_count": 7,
   "metadata": {},
   "outputs": [
    {
     "ename": "<console>",
     "evalue": "34: error: method eat in class Animal cannot be accessed in Inheritance.Dog\r",
     "output_type": "error",
     "traceback": [
      "<console>:34: error: method eat in class Animal cannot be accessed in Inheritance.Dog\r",
      " Access to protected method eat not permitted because\r",
      " enclosing object Inheritance is not a subclass of\r",
      " class Animal in object Inheritance where target is defined\r",
      "           d.eat //fails due to protected modifier\r",
      "             ^",
      ""
     ]
    }
   ],
   "source": [
    "object Inheritance extends App{\n",
    "    class Animal{\n",
    "       protected def eat=println(\"Animal Eats\")\n",
    "    }\n",
    "    class Dog extends Animal{\n",
    "        \n",
    "    }\n",
    "    val d=new Dog()\n",
    "    d.eat //fails due to protected modifier\n",
    "}\n",
    "Inheritance.main(Array())"
   ]
  },
  {
   "cell_type": "code",
   "execution_count": 11,
   "metadata": {},
   "outputs": [
    {
     "name": "stdout",
     "output_type": "stream",
     "text": [
      "Animal Eats\n"
     ]
    },
    {
     "data": {
      "text/plain": [
       "defined object Inheritance\n"
      ]
     },
     "execution_count": 11,
     "metadata": {},
     "output_type": "execute_result"
    }
   ],
   "source": [
    "object Inheritance extends App{\n",
    "    class Animal{\n",
    "       protected def eat=println(\"Animal Eats\")\n",
    "    }\n",
    "    class Dog extends Animal{\n",
    "        def dogeat=eat\n",
    "    }\n",
    "    val d=new Dog()\n",
    "    d.dogeat //succeeds as protected memebers can be accessed from Subclass members\n",
    "}\n",
    "Inheritance.main(Array())"
   ]
  },
  {
   "cell_type": "markdown",
   "metadata": {},
   "source": [
    "### When inheriting Class with constructor you need to define the main or auxillary constructor in subclass definition"
   ]
  },
  {
   "cell_type": "code",
   "execution_count": 24,
   "metadata": {},
   "outputs": [
    {
     "ename": "<console>",
     "evalue": "30: error: not enough arguments for constructor Animal: (name: String)Inheritance.Animal.\r",
     "output_type": "error",
     "traceback": [
      "<console>:30: error: not enough arguments for constructor Animal: (name: String)Inheritance.Animal.\r",
      "Unspecified value parameter name.\r",
      "           class Dog extends Animal{ //will fail as Superclass constructor not defined in Subclass definition\r",
      "                             ^",
      ""
     ]
    }
   ],
   "source": [
    "object Inheritance extends App{\n",
    "    class Animal(name:String){\n",
    "       protected def eat=println(\"Animal Eats\")\n",
    "    }\n",
    "    class Dog extends Animal{ //will fail as Superclass constructor not defined in Subclass definition\n",
    "        def dogeat=eat\n",
    "    }\n",
    "    val d=new Dog()\n",
    "    d.dogeat //succeeds as protected memebers can be accessed from Subclass members\n",
    "}\n",
    "Inheritance.main(Array())"
   ]
  },
  {
   "cell_type": "code",
   "execution_count": 37,
   "metadata": {},
   "outputs": [
    {
     "name": "stdout",
     "output_type": "stream",
     "text": [
      "Animal Eats\n",
      "Animal Eats\n"
     ]
    },
    {
     "data": {
      "text/plain": [
       "defined object Inheritance\n"
      ]
     },
     "execution_count": 37,
     "metadata": {},
     "output_type": "execute_result"
    }
   ],
   "source": [
    "object Inheritance extends App{\n",
    "    class Animal(name:String,year:String){\n",
    "        def this(name:String)=this(name,\"2020\")\n",
    "        protected def eat=println(\"Animal Eats\")\n",
    "    }\n",
    "    class Dog(dogname:String,yrs:String) extends Animal(dogname,yrs){ //will succeed as Superclass constructor is defined in Subclass definition using Main Constructor\n",
    "        def dogeat=eat\n",
    "    }\n",
    "    class Cat(catname:String) extends Animal(catname){ //will succeed as Superclass constructor is defined in Subclass definition using Auxillary Constructor\n",
    "        def cateat=eat\n",
    "    }\n",
    "    val d=new Dog(\"Bilbo\",\"3030\")\n",
    "    d.dogeat //succeeds as protected memebers can be accessed from Subclass members\n",
    "    val c=new Cat(\"Meow\")\n",
    "    c.cateat //succeeds as protected memebers can be accessed from Subclass members\n",
    "}\n",
    "Inheritance.main(Array())"
   ]
  },
  {
   "cell_type": "markdown",
   "metadata": {},
   "source": [
    "### Override keyword is necessary to override methods or variables"
   ]
  },
  {
   "cell_type": "markdown",
   "metadata": {},
   "source": [
    "### All instances of derived classes will use overriden version whenever possible\n"
   ]
  },
  {
   "cell_type": "markdown",
   "metadata": {},
   "source": [
    "### Using Polymorphism u can use parent methods version by assigning Subclass object to Superclass reference"
   ]
  },
  {
   "cell_type": "code",
   "execution_count": 41,
   "metadata": {},
   "outputs": [
    {
     "name": "stdout",
     "output_type": "stream",
     "text": [
      "Dog Eats\n"
     ]
    },
    {
     "data": {
      "text/plain": [
       "defined object Inheritance\n"
      ]
     },
     "execution_count": 41,
     "metadata": {},
     "output_type": "execute_result"
    }
   ],
   "source": [
    "object Inheritance extends App{\n",
    "    class Animal(name:String,year:String){\n",
    "        def this(name:String)=this(name,\"2020\")\n",
    "        def eat=println(\"Animal Eats\") //eat method defined in superclass\n",
    "    }\n",
    "    class Dog(dogname:String,yrs:String) extends Animal(dogname,yrs){ \n",
    "        override def eat=println(\"Dog Eats\") //eat method overriden in subclass\n",
    "    }\n",
    "\n",
    "    val d=new Dog(\"Bilbo\",\"3030\")\n",
    "    d.eat\n",
    "\n",
    "}\n",
    "Inheritance.main(Array())"
   ]
  },
  {
   "cell_type": "code",
   "execution_count": 44,
   "metadata": {},
   "outputs": [
    {
     "name": "stdout",
     "output_type": "stream",
     "text": [
      "Dog Eats\n",
      "Animal is howling\n"
     ]
    },
    {
     "data": {
      "text/plain": [
       "defined object Inheritance\n"
      ]
     },
     "execution_count": 44,
     "metadata": {},
     "output_type": "execute_result"
    }
   ],
   "source": [
    "object Inheritance extends App{\n",
    "    class Animal(name:String,year:String){\n",
    "        def this(name:String)=this(name,\"2020\")\n",
    "        def eat=println(\"Animal Eats\") //eat method defined in superclass\n",
    "        def anihowl=println(\"Animal is howling\")\n",
    "    }\n",
    "    class Dog(dogname:String,yrs:String) extends Animal(dogname,yrs){ \n",
    "        override def eat=println(\"Dog Eats\") //eat method overriden in subclass\n",
    "        def doghowl=println(\"Dog is howling\")\n",
    "        \n",
    "    }\n",
    "\n",
    "    val d:Animal=new Dog(\"Bilbo\",\"3030\") //Superclass reference assigned to Subclass object\n",
    "    d.eat//overriden method will be called\n",
    "    d.anihowl//superclass  method will be called\n",
    "     \n",
    "\n",
    "}\n",
    "Inheritance.main(Array())"
   ]
  },
  {
   "cell_type": "code",
   "execution_count": 47,
   "metadata": {},
   "outputs": [
    {
     "ename": "<console>",
     "evalue": "40: error: value doghowl is not a member of Inheritance.Animal\r",
     "output_type": "error",
     "traceback": [
      "<console>:40: error: value doghowl is not a member of Inheritance.Animal\r",
      "           d.doghowl//will fail as the reference doesnt have access to Subclass method\r",
      "             ^",
      ""
     ]
    }
   ],
   "source": [
    "object Inheritance extends App{\n",
    "    class Animal(name:String,year:String){\n",
    "        def this(name:String)=this(name,\"2020\")\n",
    "        def eat=println(\"Animal Eats\") //eat method defined in superclass\n",
    "        def anihowl=println(\"Animal is howling\")\n",
    "    }\n",
    "    class Dog(dogname:String,yrs:String) extends Animal(dogname,yrs){ \n",
    "        override def eat=println(\"Dog Eats\") //eat method overriden in subclass\n",
    "        def doghowl=println(\"Dog is howling\")\n",
    "        \n",
    "    }\n",
    "\n",
    "    val d:Animal=new Dog(\"Bilbo\",\"3030\") //Superclass reference assigned to Subclass object\n",
    "    d.eat//overriden method will be called\n",
    "    d.doghowl//will fail as the reference doesnt have access to Subclass method\n",
    "     \n",
    "\n",
    "}\n",
    "Inheritance.main(Array())"
   ]
  },
  {
   "cell_type": "markdown",
   "metadata": {},
   "source": [
    "### You can use super keyword to access parent version of overriden method from subclass"
   ]
  },
  {
   "cell_type": "code",
   "execution_count": null,
   "metadata": {},
   "outputs": [],
   "source": [
    "object Inheritance extends App{\n",
    "    class Animal(name:String,year:String){\n",
    "        def this(name:String)=this(name,\"2020\")\n",
    "        def eat=println(\"Animal Eats\") //eat method defined in superclass\n",
    "        def anihowl=println(\"Animal is howling\")\n",
    "    }\n",
    "    class Dog(dogname:String,yrs:String) extends Animal(dogname,yrs){ \n",
    "        override def eat={   ///eat method overriden in subclass\n",
    "            super.eat//Calling the superclass eat method\n",
    "            println(\"Dog Eats\") \n",
    "        }\n",
    "        def doghowl=println(\"Dog is howling\")\n",
    "        \n",
    "    }\n",
    "\n",
    "    val d:Animal=new Dog(\"Bilbo\",\"3030\") //Superclass reference assigned to Subclass object\n",
    "    d.eat//overriden method will be called which will inturn also call \n",
    "    \n",
    "     \n",
    "\n",
    "}\n",
    "Inheritance.main(Array())"
   ]
  },
  {
   "cell_type": "markdown",
   "metadata": {},
   "source": [
    "### Use final to prevent subclassing a class or overrriding method"
   ]
  },
  {
   "cell_type": "markdown",
   "metadata": {},
   "source": [
    "### USe sealed keyword to allow classes to be extended in current file and prevent extension in another files"
   ]
  },
  {
   "cell_type": "code",
   "execution_count": null,
   "metadata": {},
   "outputs": [],
   "source": []
  }
 ],
 "metadata": {
  "kernelspec": {
   "display_name": "spylon-kernel",
   "language": "scala",
   "name": "spylon-kernel"
  },
  "language_info": {
   "codemirror_mode": "text/x-scala",
   "file_extension": ".scala",
   "help_links": [
    {
     "text": "MetaKernel Magics",
     "url": "https://metakernel.readthedocs.io/en/latest/source/README.html"
    }
   ],
   "mimetype": "text/x-scala",
   "name": "scala",
   "pygments_lexer": "scala",
   "version": "0.4.1"
  }
 },
 "nbformat": 4,
 "nbformat_minor": 2
}
