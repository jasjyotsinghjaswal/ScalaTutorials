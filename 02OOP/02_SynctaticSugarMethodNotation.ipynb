{
 "cells": [
  {
   "cell_type": "markdown",
   "metadata": {},
   "source": [
    "### Methods with no args or a single arg can be called with a space "
   ]
  },
  {
   "cell_type": "code",
   "execution_count": 1,
   "metadata": {},
   "outputs": [
    {
     "data": {
      "text/plain": [
       "Intitializing Scala interpreter ..."
      ]
     },
     "metadata": {},
     "output_type": "display_data"
    },
    {
     "data": {
      "text/plain": [
       "Spark Web UI available at http://DESKTOP-01M6UVV:4040\n",
       "SparkContext available as 'sc' (version = 2.4.3, master = local[*], app id = local-1566639924353)\n",
       "SparkSession available as 'spark'\n"
      ]
     },
     "metadata": {},
     "output_type": "display_data"
    },
    {
     "name": "stdout",
     "output_type": "stream",
     "text": [
      "Hi sam how are u\n",
      "Hi sam how are u\n",
      "Hi sam The message is : this is a message\n",
      "Hi sam The message is : this is a message\n"
     ]
    },
    {
     "data": {
      "text/plain": [
       "warning: there was one feature warning; re-run with -feature for details\n",
       "defined class SynSug\r\n",
       "defined object InsSynSug\n"
      ]
     },
     "execution_count": 1,
     "metadata": {},
     "output_type": "execute_result"
    }
   ],
   "source": [
    "class SynSug(name:String){\n",
    "    def greeting=s\"Hi $name how are u\"\n",
    "    def greeting(msg:String)=s\"Hi $name The message is : $msg\"\n",
    "    \n",
    "}\n",
    "object InsSynSug extends App{\n",
    "    val s=new SynSug(\"sam\")\n",
    "    println(s.greeting)\n",
    "    println(s greeting)\n",
    "    println(s.greeting(\"this is a message\"))\n",
    "    println(s greeting \"this is a message\" )\n",
    "}\n",
    "InsSynSug.main(Array())"
   ]
  },
  {
   "cell_type": "markdown",
   "metadata": {},
   "source": [
    "### + - * / operators are actually methods of their own and can be used as method names"
   ]
  },
  {
   "cell_type": "code",
   "execution_count": 6,
   "metadata": {},
   "outputs": [
    {
     "name": "stdout",
     "output_type": "stream",
     "text": [
      "This is the greeting: Custom Greeting ,  Mr. sam\n",
      "This is the greeting: New Greeting ,  Mr. sam\n",
      "Text1Text2\n"
     ]
    },
    {
     "data": {
      "text/plain": [
       "defined class SynSug\r\n",
       "defined object InsSynSug\n"
      ]
     },
     "execution_count": 6,
     "metadata": {},
     "output_type": "execute_result"
    }
   ],
   "source": [
    "class SynSug(name:String){\n",
    "    def +(msg:String)=s\"This is the greeting: $msg ,  Mr. $name\"\n",
    "    \n",
    "}\n",
    "object InsSynSug extends App{\n",
    "    val s=new SynSug(\"sam\")\n",
    "    println(s+(\"Custom Greeting\"))\n",
    "    println(s+\"New Greeting\")\n",
    "    println(\"Text1\"+\"Text2\")\n",
    "}\n",
    "InsSynSug.main(Array())"
   ]
  },
  {
   "cell_type": "markdown",
   "metadata": {},
   "source": [
    "### Using apply method we can call object as a function"
   ]
  },
  {
   "cell_type": "code",
   "execution_count": 12,
   "metadata": {},
   "outputs": [
    {
     "name": "stdout",
     "output_type": "stream",
     "text": [
      "Custom Implmentation of Apply\n",
      "Custom Implmentation of Apply\n"
     ]
    },
    {
     "data": {
      "text/plain": [
       "defined class SynSug\r\n",
       "defined object InsSynSug\n"
      ]
     },
     "execution_count": 12,
     "metadata": {},
     "output_type": "execute_result"
    }
   ],
   "source": [
    "class SynSug(name:String){\n",
    "    def apply()=\"Custom Implmentation of Apply\"\n",
    "    \n",
    "}\n",
    "object InsSynSug extends App{\n",
    "    val s=new SynSug(\"sam\")\n",
    "    println(s.apply())//Calling apply explicitly\n",
    "    println(s())//Calling apply implicitly\n",
    "}\n",
    "InsSynSug.main(Array())"
   ]
  },
  {
   "cell_type": "markdown",
   "metadata": {},
   "source": [
    "### Unary operators are functions, works with -+~!"
   ]
  },
  {
   "cell_type": "code",
   "execution_count": 18,
   "metadata": {},
   "outputs": [
    {
     "data": {
      "text/plain": [
       "x: Int = -1\r\n",
       "y: Int = -2\n"
      ]
     },
     "execution_count": 18,
     "metadata": {},
     "output_type": "execute_result"
    }
   ],
   "source": [
    "val x = -1\n",
    "val y=2.unary_-"
   ]
  },
  {
   "cell_type": "code",
   "execution_count": 22,
   "metadata": {},
   "outputs": [
    {
     "name": "stdout",
     "output_type": "stream",
     "text": [
      "sam with a +\n"
     ]
    },
    {
     "data": {
      "text/plain": [
       "defined class SynSug\r\n",
       "defined object InsSynSug\n"
      ]
     },
     "execution_count": 22,
     "metadata": {},
     "output_type": "execute_result"
    }
   ],
   "source": [
    "class SynSug(name:String){\n",
    "    def apply()=\"Custom Implmentation of Apply\"\n",
    "    def unary_+  = s\"$name with a +\"\n",
    "    \n",
    "}\n",
    "object InsSynSug extends App{\n",
    "    val s=new SynSug(\"sam\")\n",
    "    println(+s)\n",
    "}\n",
    "InsSynSug.main(Array())"
   ]
  },
  {
   "cell_type": "code",
   "execution_count": null,
   "metadata": {},
   "outputs": [],
   "source": []
  }
 ],
 "metadata": {
  "kernelspec": {
   "display_name": "spylon-kernel",
   "language": "scala",
   "name": "spylon-kernel"
  },
  "language_info": {
   "codemirror_mode": "text/x-scala",
   "file_extension": ".scala",
   "help_links": [
    {
     "text": "MetaKernel Magics",
     "url": "https://metakernel.readthedocs.io/en/latest/source/README.html"
    }
   ],
   "mimetype": "text/x-scala",
   "name": "scala",
   "pygments_lexer": "scala",
   "version": "0.4.1"
  }
 },
 "nbformat": 4,
 "nbformat_minor": 2
}
