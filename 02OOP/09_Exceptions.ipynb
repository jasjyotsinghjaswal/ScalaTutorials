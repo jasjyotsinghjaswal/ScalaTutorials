{
 "cells": [
  {
   "cell_type": "markdown",
   "metadata": {},
   "source": [
    "### Throw an exception explicitly"
   ]
  },
  {
   "cell_type": "code",
   "execution_count": 2,
   "metadata": {},
   "outputs": [
    {
     "ename": "java.lang.NullPointerException\r",
     "evalue": "",
     "output_type": "error",
     "traceback": [
      "java.lang.NullPointerException\r",
      "  ... 37 elided",
      ""
     ]
    }
   ],
   "source": [
    "throw new NullPointerException"
   ]
  },
  {
   "cell_type": "markdown",
   "metadata": {},
   "source": [
    "### Throwable classes extend Throwable Class"
   ]
  },
  {
   "cell_type": "markdown",
   "metadata": {},
   "source": [
    "### Exception and error are major throwable subtypes"
   ]
  },
  {
   "cell_type": "code",
   "execution_count": null,
   "metadata": {},
   "outputs": [],
   "source": []
  },
  {
   "cell_type": "markdown",
   "metadata": {},
   "source": [
    "### Implicitly throwing exceptions"
   ]
  },
  {
   "cell_type": "code",
   "execution_count": 3,
   "metadata": {},
   "outputs": [
    {
     "ename": "java.lang.NullPointerException\r",
     "evalue": "",
     "output_type": "error",
     "traceback": [
      "java.lang.NullPointerException\r",
      "  ... 37 elided",
      ""
     ]
    }
   ],
   "source": [
    "val x:String=null\n",
    "println(x.length)"
   ]
  },
  {
   "cell_type": "markdown",
   "metadata": {},
   "source": [
    "### Catching Exception using try catch"
   ]
  },
  {
   "cell_type": "code",
   "execution_count": 8,
   "metadata": {},
   "outputs": [
    {
     "data": {
      "text/plain": [
       "getInt: (withExcep: Boolean)Int\n"
      ]
     },
     "execution_count": 8,
     "metadata": {},
     "output_type": "execute_result"
    }
   ],
   "source": [
    "def getInt(withExcep:Boolean)={\n",
    "    if(withExcep)\n",
    "        throw new RuntimeException(\"this is a runtime exception\")\n",
    "    else \n",
    "        36\n",
    "}"
   ]
  },
  {
   "cell_type": "code",
   "execution_count": 11,
   "metadata": {},
   "outputs": [
    {
     "name": "stdout",
     "output_type": "stream",
     "text": [
      "Caught a runtime exception: java.lang.RuntimeException: this is a runtime exception\n",
      "finally\n"
     ]
    },
    {
     "data": {
      "text/plain": [
       "res5: AnyVal = ()\n"
      ]
     },
     "execution_count": 11,
     "metadata": {},
     "output_type": "execute_result"
    }
   ],
   "source": [
    "try{\n",
    "    getInt(true)\n",
    "}\n",
    "catch{\n",
    "    case e:RuntimeException=>println(\"Caught a runtime exception: \"+e)\n",
    "}\n",
    "finally{\n",
    "    println(\"finally\")\n",
    "    //code that will get executed no matter what/\n",
    "}"
   ]
  },
  {
   "cell_type": "markdown",
   "metadata": {},
   "source": [
    "### Unhandled Exception"
   ]
  },
  {
   "cell_type": "code",
   "execution_count": 13,
   "metadata": {},
   "outputs": [
    {
     "name": "stdout",
     "output_type": "stream",
     "text": [
      "finally\n"
     ]
    },
    {
     "ename": "java.lang.RuntimeException",
     "evalue": " this is a runtime exception\r",
     "output_type": "error",
     "traceback": [
      "java.lang.RuntimeException: this is a runtime exception\r",
      "  at getInt(<console>:26)\r",
      "  ... 37 elided",
      ""
     ]
    }
   ],
   "source": [
    "try{\n",
    "    getInt(true)\n",
    "}\n",
    "catch{\n",
    "    case e:NullPointerException=>println(\"Caught a runtime exception: \"+e)\n",
    "}\n",
    "finally{\n",
    "    println(\"finally\")\n",
    "    //code that will get executed no matter what/\n",
    "}\n",
    "println(\"test\")"
   ]
  },
  {
   "cell_type": "markdown",
   "metadata": {},
   "source": [
    "### Code with no exception"
   ]
  },
  {
   "cell_type": "code",
   "execution_count": 15,
   "metadata": {},
   "outputs": [
    {
     "name": "stdout",
     "output_type": "stream",
     "text": [
      "finally\n",
      "test\n"
     ]
    }
   ],
   "source": [
    "try{\n",
    "    getInt(false)\n",
    "}\n",
    "catch{\n",
    "    case e:NullPointerException=>println(\"Caught a runtime exception: \"+e)\n",
    "}\n",
    "finally{\n",
    "    println(\"finally\")\n",
    "    //code that will get executed no matter what/\n",
    "}\n",
    "println(\"test\")"
   ]
  },
  {
   "cell_type": "markdown",
   "metadata": {},
   "source": [
    "### Finally block is optional\n",
    "### Does not influence return type of the expression\n",
    "### Always gets executed"
   ]
  },
  {
   "cell_type": "code",
   "execution_count": null,
   "metadata": {},
   "outputs": [],
   "source": []
  },
  {
   "cell_type": "markdown",
   "metadata": {},
   "source": [
    "### Create your own exception"
   ]
  },
  {
   "cell_type": "code",
   "execution_count": 20,
   "metadata": {},
   "outputs": [
    {
     "ename": "MyEx",
     "evalue": " MyException!!!!\r",
     "output_type": "error",
     "traceback": [
      "MyEx: MyException!!!!\r",
      "  ... 30 elided",
      ""
     ]
    }
   ],
   "source": [
    "class MyEx(e:String) extends Exception(e)\n",
    "throw new MyEx(\"MyException!!!!\")"
   ]
  },
  {
   "cell_type": "code",
   "execution_count": null,
   "metadata": {},
   "outputs": [],
   "source": []
  }
 ],
 "metadata": {
  "kernelspec": {
   "display_name": "spylon-kernel",
   "language": "scala",
   "name": "spylon-kernel"
  },
  "language_info": {
   "codemirror_mode": "text/x-scala",
   "file_extension": ".scala",
   "help_links": [
    {
     "text": "MetaKernel Magics",
     "url": "https://metakernel.readthedocs.io/en/latest/source/README.html"
    }
   ],
   "mimetype": "text/x-scala",
   "name": "scala",
   "pygments_lexer": "scala",
   "version": "0.4.1"
  }
 },
 "nbformat": 4,
 "nbformat_minor": 2
}
