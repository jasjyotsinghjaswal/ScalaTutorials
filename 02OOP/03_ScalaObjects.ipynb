{
 "cells": [
  {
   "cell_type": "markdown",
   "metadata": {},
   "source": [
    "### Scala doesnt have static value/methods\n",
    "### Scala objects are in their own class and are their only instance and help in implementing Singelton pattern\n",
    "### Scala objects and scala classes can stay in the same scope and these are called companions and can access each others private members"
   ]
  },
  {
   "cell_type": "code",
   "execution_count": 5,
   "metadata": {},
   "outputs": [
    {
     "name": "stdout",
     "output_type": "stream",
     "text": [
      "Object Variable n_eyes:2\n",
      "Object Method isAvail:true\n",
      "Comparing 2 singleton objects: true\n",
      "Comparing 2 class instances: false\n"
     ]
    },
    {
     "data": {
      "text/plain": [
       "defined object TestObject\n"
      ]
     },
     "execution_count": 5,
     "metadata": {},
     "output_type": "execute_result"
    }
   ],
   "source": [
    "object TestObject extends App{\n",
    "    class Person(val name:String){\n",
    "            //instance level functionality\n",
    "    }\n",
    "    object Person{\n",
    "            //static level functionality\n",
    "            val n_eyes=2\n",
    "            def isAvail=true\n",
    "    }\n",
    "    //Printing Object Value Directly\n",
    "    println(\"Object Variable n_eyes:\"+Person.n_eyes)\n",
    "    println(\"Object Method isAvail:\"+Person.isAvail)\n",
    "    //Comparing Object\n",
    "    val op1=Person\n",
    "    val op2=Person\n",
    "    println(\"Comparing 2 singleton objects: \"+(op1==op2))\n",
    "    //Comparing Class Instances\n",
    "    val cp1=new Person(\"XYZ\")\n",
    "    val cp2=new Person(\"XYZ\")\n",
    "    println(\"Comparing 2 class instances: \"+(cp1==cp2))\n",
    "    \n",
    "    \n",
    "}\n",
    "TestObject.main(Array())"
   ]
  },
  {
   "cell_type": "code",
   "execution_count": null,
   "metadata": {},
   "outputs": [],
   "source": []
  }
 ],
 "metadata": {
  "kernelspec": {
   "display_name": "spylon-kernel",
   "language": "scala",
   "name": "spylon-kernel"
  },
  "language_info": {
   "codemirror_mode": "text/x-scala",
   "file_extension": ".scala",
   "help_links": [
    {
     "text": "MetaKernel Magics",
     "url": "https://metakernel.readthedocs.io/en/latest/source/README.html"
    }
   ],
   "mimetype": "text/x-scala",
   "name": "scala",
   "pygments_lexer": "scala",
   "version": "0.4.1"
  }
 },
 "nbformat": 4,
 "nbformat_minor": 2
}
