{
 "cells": [
  {
   "cell_type": "markdown",
   "metadata": {},
   "source": [
    "### Using Generic Classes"
   ]
  },
  {
   "cell_type": "code",
   "execution_count": 1,
   "metadata": {},
   "outputs": [
    {
     "data": {
      "text/plain": [
       "Intitializing Scala interpreter ..."
      ]
     },
     "metadata": {},
     "output_type": "display_data"
    },
    {
     "data": {
      "text/plain": [
       "Spark Web UI available at http://DESKTOP-01M6UVV:4040\n",
       "SparkContext available as 'sc' (version = 2.4.3, master = local[*], app id = local-1566754772907)\n",
       "SparkSession available as 'spark'\n"
      ]
     },
     "metadata": {},
     "output_type": "display_data"
    },
    {
     "name": "stdout",
     "output_type": "stream",
     "text": [
      "List(text1, text2)\n",
      "List(33, RandomText)\n"
     ]
    },
    {
     "data": {
      "text/plain": [
       "defined class MyMap\r\n",
       "defined object testMyMap\n"
      ]
     },
     "execution_count": 1,
     "metadata": {},
     "output_type": "execute_result"
    }
   ],
   "source": [
    "class MyMap[X,Y]{\n",
    "    def addvalls(v1:X,v2:Y)={\n",
    "    List(v1,v2)\n",
    "    }\n",
    "    \n",
    "}\n",
    "object testMyMap extends App {\n",
    "    val m1=new MyMap[String,String]\n",
    "    println(m1.addvalls(\"text1\",\"text2\"))\n",
    "    val m2=new MyMap[Int,String]\n",
    "    println(m2.addvalls(33,\"RandomText\"))    \n",
    "}\n",
    "testMyMap.main(Array())"
   ]
  },
  {
   "cell_type": "markdown",
   "metadata": {},
   "source": [
    "### Using Generic Methods"
   ]
  },
  {
   "cell_type": "code",
   "execution_count": 2,
   "metadata": {},
   "outputs": [
    {
     "data": {
      "text/plain": [
       "concatAny: [Type1, Type2](v1: Type1, v2: Type2)Any\r\n",
       "res1: Any = 2345\n"
      ]
     },
     "execution_count": 2,
     "metadata": {},
     "output_type": "execute_result"
    }
   ],
   "source": [
    "def concatAny[Type1,Type2](v1:Type1,v2:Type2)={\n",
    "    if (v1.isInstanceOf[String]==true && v2.isInstanceOf[String]==true)\n",
    "    v1.asInstanceOf[String]+v2.asInstanceOf[String]\n",
    "    else\n",
    "    v1.asInstanceOf[Int]+v2.asInstanceOf[Int]\n",
    "}\n",
    "concatAny(23,45)\n",
    "concatAny(\"23\",\"45\")"
   ]
  },
  {
   "cell_type": "markdown",
   "metadata": {},
   "source": [
    "### Upper bound(Allows parameters which are same or subclass of specified type)"
   ]
  },
  {
   "cell_type": "code",
   "execution_count": 3,
   "metadata": {},
   "outputs": [
    {
     "data": {
      "text/plain": [
       "defined class Animal\r\n",
       "defined class Dog\r\n",
       "defined class Puppy\r\n",
       "defined class AnimalCarer\n"
      ]
     },
     "execution_count": 3,
     "metadata": {},
     "output_type": "execute_result"
    }
   ],
   "source": [
    "class Animal\n",
    "class Dog extends Animal\n",
    "class Puppy extends Dog\n",
    "\n",
    "class AnimalCarer{\n",
    "  def display [T <: Dog](t: T){\n",
    "    println(t)\n",
    "  }\n",
    "}\n"
   ]
  },
  {
   "cell_type": "code",
   "execution_count": 4,
   "metadata": {},
   "outputs": [
    {
     "ename": "<console>",
     "evalue": "37: error: inferred type arguments [Animal] do not conform to method display's type parameter bounds [T <: Dog]\r",
     "output_type": "error",
     "traceback": [
      "<console>:37: error: inferred type arguments [Animal] do not conform to method display's type parameter bounds [T <: Dog]\r",
      "           animalCarer.display(animal)  //Code fails due to this line as display excepts only Dog or its subtyppe\r",
      "                       ^",
      "<console>:37: error: type mismatch;\r",
      " found   : Animal\r",
      " required: T\r",
      "           animalCarer.display(animal)  //Code fails due to this line as display excepts only Dog or its subtyppe\r",
      "                               ^",
      ""
     ]
    }
   ],
   "source": [
    "object ScalaUpperBoundsTest {\n",
    "  def main(args: Array[String]) {\n",
    "\n",
    "    val animal = new Animal\n",
    "    val dog = new Dog\n",
    "    val puppy = new Puppy\n",
    "\n",
    "    val animalCarer = new AnimalCarer\n",
    "\n",
    "    animalCarer.display(animal)  //Code fails due to this line as display excepts only Dog or its subtyppe\n",
    "  }\n",
    "}\n",
    "ScalaUpperBoundsTest.main(Array())"
   ]
  },
  {
   "cell_type": "code",
   "execution_count": 11,
   "metadata": {},
   "outputs": [
    {
     "name": "stdout",
     "output_type": "stream",
     "text": [
      "$line14.$read$$iw$$iw$Dog@5d5bf95d\n",
      "$line14.$read$$iw$$iw$Puppy@7c17c250\n"
     ]
    },
    {
     "data": {
      "text/plain": [
       "defined object ScalaUpperBoundsTest\n"
      ]
     },
     "execution_count": 11,
     "metadata": {},
     "output_type": "execute_result"
    }
   ],
   "source": [
    "object ScalaUpperBoundsTest {\n",
    "  def main(args: Array[String]) {\n",
    "\n",
    "    val animal = new Animal\n",
    "    val dog = new Dog\n",
    "    val puppy = new Puppy\n",
    "\n",
    "    val animalCarer = new AnimalCarer\n",
    "\n",
    "    \n",
    "    animalCarer.display(dog)    //Code succeeds as dog or its subtype are accepted\n",
    "    animalCarer.display(puppy)  //Code succeeds as dog or its subtype are accepted\n",
    "  }\n",
    "}\n",
    "ScalaUpperBoundsTest.main(Array())"
   ]
  },
  {
   "cell_type": "markdown",
   "metadata": {},
   "source": [
    "### LowerBound (Allows parameters which are same or superclass of specified type)"
   ]
  },
  {
   "cell_type": "code",
   "execution_count": 5,
   "metadata": {},
   "outputs": [
    {
     "data": {
      "text/plain": [
       "defined class Animal\r\n",
       "defined class Dog\r\n",
       "defined class Puppy\r\n",
       "defined class SmallPuppy\r\n",
       "defined class AnimalCarer\n"
      ]
     },
     "execution_count": 5,
     "metadata": {},
     "output_type": "execute_result"
    }
   ],
   "source": [
    "class  Animal\n",
    "class Dog extends Animal\n",
    "class Puppy extends Animal\n",
    "class SmallPuppy \n",
    "\n",
    "class AnimalCarer{\n",
    "  def display [T >: Puppy](t: T){\n",
    "    println(t)\n",
    "  }\n",
    "}"
   ]
  },
  {
   "cell_type": "code",
   "execution_count": 9,
   "metadata": {},
   "outputs": [
    {
     "name": "stdout",
     "output_type": "stream",
     "text": [
      "$line10.$read$$iw$$iw$SmallPuppy@737feec\n"
     ]
    },
    {
     "data": {
      "text/plain": [
       "defined object ScalaLowerBoundsTest\n"
      ]
     },
     "execution_count": 9,
     "metadata": {},
     "output_type": "execute_result"
    }
   ],
   "source": [
    "object ScalaLowerBoundsTest {\n",
    "  def main(args: Array[String]) {\n",
    "\n",
    "    val animal = new Animal\n",
    "    val dog = new Dog\n",
    "    val puppy = new Puppy\n",
    "    val smallPuppy = new SmallPuppy\n",
    "\n",
    "    val animalCarer = new AnimalCarer\n",
    "\n",
    "    animalCarer.display(smallPuppy)   //This works!!!!!! because all Classes extend Anyref implicitly \n",
    "  }\n",
    "}\n",
    "ScalaLowerBoundsTest.main(Array())"
   ]
  },
  {
   "cell_type": "code",
   "execution_count": 10,
   "metadata": {},
   "outputs": [
    {
     "name": "stdout",
     "output_type": "stream",
     "text": [
      "$line10.$read$$iw$$iw$Animal@45eca6f8\n",
      "$line10.$read$$iw$$iw$Puppy@28d2c7da\n",
      "$line10.$read$$iw$$iw$Dog@2c519800\n"
     ]
    },
    {
     "data": {
      "text/plain": [
       "defined object ScalaLowerBoundsTest\n"
      ]
     },
     "execution_count": 10,
     "metadata": {},
     "output_type": "execute_result"
    }
   ],
   "source": [
    "object ScalaLowerBoundsTest {\n",
    "  def main(args: Array[String]) {\n",
    "\n",
    "    val animal = new Animal\n",
    "    val dog = new Dog\n",
    "    val puppy = new Puppy\n",
    "\n",
    "    val animalCarer = new AnimalCarer\n",
    "\n",
    "    animalCarer.display(animal)   //Works as display accepts Puppy or its supertypes\n",
    "    animalCarer.display(puppy)    //Works as display accepts Puppy or its supertypes\n",
    "    animalCarer.display(dog)      //Works as display accepts Puppy or its supertypes\n",
    "  }\n",
    "}\n",
    "ScalaLowerBoundsTest.main(Array())"
   ]
  },
  {
   "cell_type": "code",
   "execution_count": null,
   "metadata": {},
   "outputs": [],
   "source": []
  },
  {
   "cell_type": "code",
   "execution_count": null,
   "metadata": {},
   "outputs": [],
   "source": []
  }
 ],
 "metadata": {
  "kernelspec": {
   "display_name": "spylon-kernel",
   "language": "scala",
   "name": "spylon-kernel"
  },
  "language_info": {
   "codemirror_mode": "text/x-scala",
   "file_extension": ".scala",
   "help_links": [
    {
     "text": "MetaKernel Magics",
     "url": "https://metakernel.readthedocs.io/en/latest/source/README.html"
    }
   ],
   "mimetype": "text/x-scala",
   "name": "scala",
   "pygments_lexer": "scala",
   "version": "0.4.1"
  }
 },
 "nbformat": 4,
 "nbformat_minor": 2
}
