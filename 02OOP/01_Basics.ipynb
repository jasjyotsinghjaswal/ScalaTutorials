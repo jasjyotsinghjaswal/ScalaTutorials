{
 "cells": [
  {
   "cell_type": "markdown",
   "metadata": {},
   "source": [
    "# Class Parameters are not Class Memebers or Fields\n",
    "## To be able to use them as fields use val or var before the Class Parameters"
   ]
  },
  {
   "cell_type": "code",
   "execution_count": 23,
   "metadata": {},
   "outputs": [
    {
     "ename": "<console>",
     "evalue": "16: error: value age is not a member of Student\r",
     "output_type": "error",
     "traceback": [
      "<console>:16: error: value age is not a member of Student\r",
      "          print(stu.age)\r",
      "                    ^",
      ""
     ]
    }
   ],
   "source": [
    "object TestObject extends App{\n",
    "   val stu=new Student(\"Jamie\",33) \n",
    "   print(stu.age)\n",
    "    \n",
    "}\n",
    "class Student(name:String,age:Int)"
   ]
  },
  {
   "cell_type": "code",
   "execution_count": 24,
   "metadata": {},
   "outputs": [
    {
     "name": "stdout",
     "output_type": "stream",
     "text": [
      "Class Instantiated :\n",
      "33LA MARTS"
     ]
    },
    {
     "data": {
      "text/plain": [
       "defined object TestObject\r\n",
       "defined class Student\n",
       "warning: previously defined object Student is not a companion to class Student.\n",
       "Companions must be defined together; you may wish to use :paste mode for this.\n"
      ]
     },
     "execution_count": 24,
     "metadata": {},
     "output_type": "execute_result"
    }
   ],
   "source": [
    "object TestObject extends App {\n",
    "\n",
    "   val stu=new Student(\"Jamie\",33) \n",
    "   print(stu.age)\n",
    "   print(stu.school)\n",
    "   \n",
    "}\n",
    "class Student(name:String,val age:Int){\n",
    "    val school=\"LA MARTS\"\n",
    "    println(\"Class Instantiated :\")\n",
    "    \n",
    "}\n",
    "TestObject.main(Array())"
   ]
  },
  {
   "cell_type": "markdown",
   "metadata": {},
   "source": [
    "# IN case of Ambiguity in column names using this. to imply Class Parameter \n",
    "# Overload functions change argument numbers or argument types for the same function name"
   ]
  },
  {
   "cell_type": "code",
   "execution_count": 3,
   "metadata": {},
   "outputs": [
    {
     "name": "stdout",
     "output_type": "stream",
     "text": [
      "Class Instantiated :\n",
      "Mark said. Hi Mark\n"
     ]
    },
    {
     "data": {
      "text/plain": [
       "defined object TestObject\r\n",
       "defined class Student\n"
      ]
     },
     "execution_count": 3,
     "metadata": {},
     "output_type": "execute_result"
    }
   ],
   "source": [
    "\n",
    "object TestObject extends App {\n",
    "\n",
    "   val stu=new Student(\"Jamie\",33)\n",
    "   println(stu.hello(\"Mark\"))\n",
    "  \n",
    "   \n",
    "}\n",
    "class Student(name:String,val age:Int){\n",
    "    val school=\"LA MARTS\"\n",
    "    println(\"Class Instantiated :\")\n",
    "    def hello(name:String)=s\"$name said. Hi $name\"\n",
    "    \n",
    "}\n",
    "TestObject.main(Array())"
   ]
  },
  {
   "cell_type": "code",
   "execution_count": 19,
   "metadata": {},
   "outputs": [
    {
     "name": "stdout",
     "output_type": "stream",
     "text": [
      "Class Instantiated :\n",
      "Jamie said. Hi Mark My Age is 33\n",
      "Argumentless Hello\n"
     ]
    },
    {
     "data": {
      "text/plain": [
       "defined object TestObject\r\n",
       "defined class Student\n",
       "warning: previously defined object Student is not a companion to class Student.\n",
       "Companions must be defined together; you may wish to use :paste mode for this.\n"
      ]
     },
     "execution_count": 19,
     "metadata": {},
     "output_type": "execute_result"
    }
   ],
   "source": [
    "\n",
    "object TestObject extends App {\n",
    "\n",
    "   val stu=new Student(\"Jamie\",33)\n",
    "   println(stu.hello(\"Mark\"))\n",
    "    println(stu.hello)\n",
    "  \n",
    "   \n",
    "}\n",
    "class Student(name:String,val age:Int){\n",
    "    val school=\"LA MARTS\"\n",
    "    println(\"Class Instantiated :\")\n",
    "    def hello(name:String)=s\"${this.name} said. Hi $name My Age is $age\"\n",
    "    def hello()=\"Argumentless Hello\"\n",
    "    \n",
    "}\n",
    "TestObject.main(Array())"
   ]
  },
  {
   "cell_type": "markdown",
   "metadata": {},
   "source": [
    "# Using Auxialry COnstructors-Aux constructors are impractical to use as you have to call the primary or secondary contructor\n",
    "# For a way around you need to define default args constructors"
   ]
  },
  {
   "cell_type": "code",
   "execution_count": 20,
   "metadata": {},
   "outputs": [
    {
     "data": {
      "text/plain": [
       "defined object TestObject\r\n",
       "defined class Student\n",
       "warning: previously defined object Student is not a companion to class Student.\n",
       "Companions must be defined together; you may wish to use :paste mode for this.\n"
      ]
     },
     "execution_count": 20,
     "metadata": {},
     "output_type": "execute_result"
    }
   ],
   "source": [
    "\n",
    "object TestObject extends App {\n",
    "\n",
    "   val stu=new Student(\"Jamie\",33)\n",
    "\n",
    "  \n",
    "   \n",
    "}\n",
    "class Student(name:String,val age:Int){\n",
    "def this(name:String)=this(name,0)\n",
    "def this()=this(\"dummyName\")\n",
    "}\n",
    "TestObject.main(Array())"
   ]
  },
  {
   "cell_type": "code",
   "execution_count": 25,
   "metadata": {},
   "outputs": [
    {
     "data": {
      "text/plain": [
       "defined object TestObject\r\n",
       "defined class Student\n"
      ]
     },
     "execution_count": 25,
     "metadata": {},
     "output_type": "execute_result"
    }
   ],
   "source": [
    "\n",
    "object TestObject extends App {\n",
    "\n",
    "   val stu=new Student(\"Jamie\",33)\n",
    "\n",
    "  \n",
    "   \n",
    "}\n",
    "class Student(name:String=\"DummyName\",val age:Int=0){\n",
    "def this(newname:String)=this(name=newname)\n",
    "def this(newage:Int)=this(age=newage)\n",
    "\n",
    "}\n",
    "TestObject.main(Array())"
   ]
  },
  {
   "cell_type": "code",
   "execution_count": null,
   "metadata": {},
   "outputs": [],
   "source": []
  },
  {
   "cell_type": "code",
   "execution_count": null,
   "metadata": {},
   "outputs": [],
   "source": []
  },
  {
   "cell_type": "code",
   "execution_count": null,
   "metadata": {},
   "outputs": [],
   "source": []
  }
 ],
 "metadata": {
  "kernelspec": {
   "display_name": "spylon-kernel",
   "language": "scala",
   "name": "spylon-kernel"
  },
  "language_info": {
   "codemirror_mode": "text/x-scala",
   "file_extension": ".scala",
   "help_links": [
    {
     "text": "MetaKernel Magics",
     "url": "https://metakernel.readthedocs.io/en/latest/source/README.html"
    }
   ],
   "mimetype": "text/x-scala",
   "name": "scala",
   "pygments_lexer": "scala",
   "version": "0.4.1"
  }
 },
 "nbformat": 4,
 "nbformat_minor": 2
}
