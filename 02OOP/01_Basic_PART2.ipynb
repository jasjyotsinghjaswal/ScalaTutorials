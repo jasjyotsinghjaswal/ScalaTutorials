{
 "cells": [
  {
   "cell_type": "code",
   "execution_count": 8,
   "metadata": {},
   "outputs": [
    {
     "data": {
      "text/plain": [
       "defined class Writer\n"
      ]
     },
     "execution_count": 8,
     "metadata": {},
     "output_type": "execute_result"
    }
   ],
   "source": [
    "class Writer(fname:String,sname:String,val year:Int){\n",
    "    def fullname=s\"${fname} #{sname}\"\n",
    "}\n"
   ]
  },
  {
   "cell_type": "code",
   "execution_count": 20,
   "metadata": {},
   "outputs": [
    {
     "data": {
      "text/plain": [
       "import java.time.LocalDate\r\n",
       "defined class Novel\n"
      ]
     },
     "execution_count": 20,
     "metadata": {},
     "output_type": "execute_result"
    }
   ],
   "source": [
    "import java.time.LocalDate\n",
    "class Novel(name:String,yearOFRel:Int,auth:Writer){\n",
    "    def authAge=yearOFRel-auth.year\n",
    "    def isWrittenBy(auth:Writer)= auth==this.auth\n",
    "    def novCopy(year:Int)=new Novel(name=this.name,yearOFRel=year,auth=this.auth)\n",
    "}"
   ]
  },
  {
   "cell_type": "code",
   "execution_count": 25,
   "metadata": {},
   "outputs": [
    {
     "data": {
      "text/plain": [
       "defined class Countr\n"
      ]
     },
     "execution_count": 25,
     "metadata": {},
     "output_type": "execute_result"
    }
   ],
   "source": [
    "class Countr(startVal:Int){\n",
    "def inc=new Countr(startVal+1)\n",
    "def dec=new Countr(startVal-1)\n",
    "def apply()=println(\"Value of counter is : \"+startVal)\n",
    "}\n"
   ]
  },
  {
   "cell_type": "code",
   "execution_count": 29,
   "metadata": {},
   "outputs": [
    {
     "name": "stdout",
     "output_type": "stream",
     "text": [
      "Initialising COunter\n",
      "Value of counter is : 23\n",
      "Value of counter is : 24\n"
     ]
    },
    {
     "data": {
      "text/plain": [
       "defined object OOBasics\n"
      ]
     },
     "execution_count": 29,
     "metadata": {},
     "output_type": "execute_result"
    }
   ],
   "source": [
    "object OOBasics extends App{\n",
    "println(\"Initialising COunter\")\n",
    "val c1=new Countr(23)\n",
    "c1()   \n",
    "val c2=c1.inc\n",
    "c2()    \n",
    "}\n",
    "OOBasics.main(Array())"
   ]
  },
  {
   "cell_type": "code",
   "execution_count": 32,
   "metadata": {},
   "outputs": [
    {
     "name": "stdout",
     "output_type": "stream",
     "text": [
      "13\n",
      "true\n",
      "false\n"
     ]
    },
    {
     "data": {
      "text/plain": [
       "defined object OOBasics\n"
      ]
     },
     "execution_count": 32,
     "metadata": {},
     "output_type": "execute_result"
    }
   ],
   "source": [
    "object OOBasics extends App{\n",
    "val auth=new Writer(\"Manish\",\"Singh\",1970)\n",
    "val impostor=new Writer(\"Impostor\",\"Singh\",1970)\n",
    "val novel=new Novel(\"Merchant Of Venice\",1983,auth)\n",
    "//Get Author Age\n",
    "println(novel.authAge)\n",
    "//Check if Author is impostor\n",
    "println(novel.isWrittenBy(auth))//true\n",
    "println(novel.isWrittenBy(impostor))//false    \n",
    "}\n",
    "OOBasics.main(Array())"
   ]
  },
  {
   "cell_type": "code",
   "execution_count": null,
   "metadata": {},
   "outputs": [],
   "source": []
  }
 ],
 "metadata": {
  "kernelspec": {
   "display_name": "spylon-kernel",
   "language": "scala",
   "name": "spylon-kernel"
  },
  "language_info": {
   "codemirror_mode": "text/x-scala",
   "file_extension": ".scala",
   "help_links": [
    {
     "text": "MetaKernel Magics",
     "url": "https://metakernel.readthedocs.io/en/latest/source/README.html"
    }
   ],
   "mimetype": "text/x-scala",
   "name": "scala",
   "pygments_lexer": "scala",
   "version": "0.4.1"
  }
 },
 "nbformat": 4,
 "nbformat_minor": 2
}
