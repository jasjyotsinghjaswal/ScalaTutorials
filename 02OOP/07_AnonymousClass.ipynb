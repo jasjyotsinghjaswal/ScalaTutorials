{
 "cells": [
  {
   "cell_type": "markdown",
   "metadata": {},
   "source": [
    "### We can instantite types for both abstact as well as non abstract classes using Anonymous Class"
   ]
  },
  {
   "cell_type": "code",
   "execution_count": 15,
   "metadata": {},
   "outputs": [
    {
     "data": {
      "text/plain": [
       "defined class Person\r\n",
       "defined class Animal\n"
      ]
     },
     "execution_count": 15,
     "metadata": {},
     "output_type": "execute_result"
    }
   ],
   "source": [
    "abstract class Person(val name:String)\n",
    "{\n",
    "    def greeting:String\n",
    "}\n",
    "class Animal\n",
    "{\n",
    "    def greeting:String=\"This is Animal1 greeting\"\n",
    "}\n"
   ]
  },
  {
   "cell_type": "code",
   "execution_count": 16,
   "metadata": {},
   "outputs": [
    {
     "name": "stdout",
     "output_type": "stream",
     "text": [
      "Hi Singha how are you\n",
      "This is Animal2 greeting\n"
     ]
    },
    {
     "data": {
      "text/plain": [
       "defined object AnonTest\n"
      ]
     },
     "execution_count": 16,
     "metadata": {},
     "output_type": "execute_result"
    }
   ],
   "source": [
    "object AnonTest {\n",
    "  def main(args: Array[String]) {\n",
    "\n",
    "    val p1=new Person(\"Singha\"){\n",
    "        def greeting:String=s\"Hi ${name} how are you\"\n",
    "    }\n",
    "    println(p1.greeting)\n",
    "    val a1=new Animal{\n",
    "        override def greeting:String=s\"This is Animal2 greeting\"\n",
    "    }\n",
    "    println(a1.greeting)      \n",
    "  }\n",
    "}\n",
    "AnonTest.main(Array())"
   ]
  },
  {
   "cell_type": "code",
   "execution_count": null,
   "metadata": {},
   "outputs": [],
   "source": []
  }
 ],
 "metadata": {
  "kernelspec": {
   "display_name": "spylon-kernel",
   "language": "scala",
   "name": "spylon-kernel"
  },
  "language_info": {
   "codemirror_mode": "text/x-scala",
   "file_extension": ".scala",
   "help_links": [
    {
     "text": "MetaKernel Magics",
     "url": "https://metakernel.readthedocs.io/en/latest/source/README.html"
    }
   ],
   "mimetype": "text/x-scala",
   "name": "scala",
   "pygments_lexer": "scala",
   "version": "0.4.1"
  }
 },
 "nbformat": 4,
 "nbformat_minor": 2
}
