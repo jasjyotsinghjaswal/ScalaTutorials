{
 "cells": [
  {
   "cell_type": "markdown",
   "metadata": {},
   "source": [
    "### Creating a Simple Scala Class and Object "
   ]
  },
  {
   "cell_type": "code",
   "execution_count": 14,
   "metadata": {},
   "outputs": [
    {
     "name": "stdout",
     "output_type": "stream",
     "text": [
      "$line19.$read$$iw$$iw$Person@b9bbf72\n"
     ]
    },
    {
     "data": {
      "text/plain": [
       "defined object OOBasics\r\n",
       "defined class Person\n"
      ]
     },
     "execution_count": 14,
     "metadata": {},
     "output_type": "execute_result"
    }
   ],
   "source": [
    "object OOBasics extends App{\n",
    "val person=new Person\n",
    "println(person)    \n",
    "}\n",
    "\n",
    "class Person\n",
    "OOBasics.main(Array())"
   ]
  },
  {
   "cell_type": "markdown",
   "metadata": {},
   "source": [
    "### Creating a Class with Constructor"
   ]
  },
  {
   "cell_type": "code",
   "execution_count": 16,
   "metadata": {},
   "outputs": [
    {
     "name": "stdout",
     "output_type": "stream",
     "text": [
      "$line21.$read$$iw$$iw$PersonCons@1e62e785\n"
     ]
    },
    {
     "data": {
      "text/plain": [
       "defined object OOBasicsCons\r\n",
       "defined class PersonCons\n"
      ]
     },
     "execution_count": 16,
     "metadata": {},
     "output_type": "execute_result"
    }
   ],
   "source": [
    "object OOBasicsCons extends App{\n",
    "val person=new PersonCons(\"Manish\",33)\n",
    "println(person)    \n",
    "}\n",
    "\n",
    "class PersonCons(name:String,age:Int) /*\n",
    "This is a class contructor or class parameter but not a class field \n",
    "and hence cant be accessed using '.' notation */\n",
    "OOBasicsCons.main(Array())"
   ]
  },
  {
   "cell_type": "code",
   "execution_count": 19,
   "metadata": {},
   "outputs": [
    {
     "ename": "<console>",
     "evalue": "18: error: value age is not a member of PersonCons\r",
     "output_type": "error",
     "traceback": [
      "<console>:18: error: value age is not a member of PersonCons\r",
      "       println(person.age)    //Should fail as class parameters cannot be accessed using '.'\r",
      "                      ^",
      ""
     ]
    }
   ],
   "source": [
    "object OOBasicsCons extends App{\n",
    "val person=new PersonCons(\"Manish\",33)\n",
    "println(person)\n",
    "println(person.age)    //Should fail as class parameters cannot be accessed using '.'\n",
    "}\n",
    "\n",
    "class PersonCons(name:String,age:Int) /*\n",
    "This is a class contructor or class parameter but not a class field \n",
    "and hence cant be accessed using '.' notation */\n",
    "OOBasicsCons.main(Array())"
   ]
  },
  {
   "cell_type": "markdown",
   "metadata": {},
   "source": [
    "### To use Class Parameters as class Variables you need to add a val or var keyword.Variables defined in the body of class can also be used with a '.' notation and are treated as class Variables/Fields"
   ]
  },
  {
   "cell_type": "code",
   "execution_count": 22,
   "metadata": {},
   "outputs": [
    {
     "name": "stdout",
     "output_type": "stream",
     "text": [
      "Instatanting class\n",
      "$line27.$read$$iw$$iw$PersonCons@7915ae7d\n",
      "33\n",
      "23\n"
     ]
    },
    {
     "data": {
      "text/plain": [
       "defined object OOBasicsCons\r\n",
       "defined class PersonCons\n"
      ]
     },
     "execution_count": 22,
     "metadata": {},
     "output_type": "execute_result"
    }
   ],
   "source": [
    "object OOBasicsCons extends App{\n",
    "val person=new PersonCons(\"Manish\",33)\n",
    "println(person)\n",
    "println(person.age)    //Should pass as age is a class variable/field\n",
    "println(person.x)    //Should pass as x is a class pvariable/field\n",
    "}\n",
    "\n",
    "class PersonCons(name:String,val age:Int)/* name is a class parameter but age & x is a class field/variable */\n",
    "{\n",
    "val x=23\n",
    "println(\"Instatanting class\")    //This line is printed as soon as the class is instatntitated\n",
    "    \n",
    "}\n",
    "OOBasicsCons.main(Array())"
   ]
  },
  {
   "cell_type": "markdown",
   "metadata": {},
   "source": [
    "### How to access class parameters/fields within functions which define local parameters with same name by using \"this\""
   ]
  },
  {
   "cell_type": "code",
   "execution_count": 33,
   "metadata": {},
   "outputs": [
    {
     "name": "stdout",
     "output_type": "stream",
     "text": [
      "Without this--\n",
      "Mark greets Mark\n",
      "With this--\n",
      "Manish greets Mark\n"
     ]
    },
    {
     "data": {
      "text/plain": [
       "defined object OOBasicsCons\r\n",
       "defined class PersonCons\n"
      ]
     },
     "execution_count": 33,
     "metadata": {},
     "output_type": "execute_result"
    }
   ],
   "source": [
    "object OOBasicsCons extends App{\n",
    "val person=new PersonCons(\"Manish\",33)\n",
    "println(\"Without this--\")      \n",
    "person.greetFail(\"Mark\")\n",
    "println(\"With this--\")    \n",
    "person.greetPass(\"Mark\")\n",
    "}\n",
    "\n",
    "class PersonCons(name:String,val age:Int) //name as local parameter in class\n",
    "{\n",
    "def greetFail(name:String)=println(s\"$name greets $name\") //name as local parameter in method\n",
    "def greetPass(name:String)=println(s\"${this.name} greets $name\") //name as local parameter in method    \n",
    "}\n",
    "OOBasicsCons.main(Array())"
   ]
  },
  {
   "cell_type": "markdown",
   "metadata": {},
   "source": [
    "### Using Auxilary constructors to pass limited arguments.Drawback is the auxilary constructor has to inturn call anther auxilary or secondary constructor"
   ]
  },
  {
   "cell_type": "code",
   "execution_count": 38,
   "metadata": {},
   "outputs": [
    {
     "name": "stdout",
     "output_type": "stream",
     "text": [
      "Name is Manish and age is 33\n",
      "Name is Manish and age is 0\n"
     ]
    },
    {
     "data": {
      "text/plain": [
       "defined object OOBasicsCons\r\n",
       "defined class PersonCons\n"
      ]
     },
     "execution_count": 38,
     "metadata": {},
     "output_type": "execute_result"
    }
   ],
   "source": [
    "object OOBasicsCons extends App{\n",
    "val person1=new PersonCons(\"Manish\",33)\n",
    "person1.showDet\n",
    "val person2=new PersonCons(\"Manish\")\n",
    "person2.showDet    \n",
    "}\n",
    "\n",
    "class PersonCons(name:String,val age:Int) //name as local parameter in class\n",
    "{\n",
    "def this(name:String)=this(name,0)\n",
    "def showDet=println(s\"Name is $name and age is $age\")    \n",
    "}\n",
    "OOBasicsCons.main(Array())"
   ]
  },
  {
   "cell_type": "markdown",
   "metadata": {},
   "source": [
    "### Above usecase can be better implemented when using default constructor"
   ]
  },
  {
   "cell_type": "code",
   "execution_count": 40,
   "metadata": {},
   "outputs": [
    {
     "name": "stdout",
     "output_type": "stream",
     "text": [
      "Name is Manish and age is 33\n",
      "Name is Manish and age is 0\n",
      "Name is None and age is 100\n"
     ]
    },
    {
     "data": {
      "text/plain": [
       "defined object OOBasicsCons\r\n",
       "defined class PersonCons\n"
      ]
     },
     "execution_count": 40,
     "metadata": {},
     "output_type": "execute_result"
    }
   ],
   "source": [
    "object OOBasicsCons extends App{\n",
    "val person1=new PersonCons(\"Manish\",33)\n",
    "person1.showDet\n",
    "val person2=new PersonCons(\"Manish\")\n",
    "person2.showDet\n",
    "val person3=new PersonCons(age=100)\n",
    "person3.showDet     \n",
    "}\n",
    "\n",
    "class PersonCons(name:String=\"None\",val age:Int=0) //name as local parameter in class\n",
    "{\n",
    "def showDet=println(s\"Name is $name and age is $age\")    \n",
    "}\n",
    "OOBasicsCons.main(Array())"
   ]
  },
  {
   "cell_type": "markdown",
   "metadata": {},
   "source": [
    "### Overloaded methods in Class. Remember there is should be difference in no. of arguments to a method or type of argument"
   ]
  },
  {
   "cell_type": "code",
   "execution_count": 44,
   "metadata": {},
   "outputs": [
    {
     "name": "stdout",
     "output_type": "stream",
     "text": [
      "Name is Manish and age is 33\n",
      "Name is Satheesh and age is 56\n"
     ]
    },
    {
     "data": {
      "text/plain": [
       "defined object OOBasicsCons\r\n",
       "defined class PersonCons\n"
      ]
     },
     "execution_count": 44,
     "metadata": {},
     "output_type": "execute_result"
    }
   ],
   "source": [
    "object OOBasicsCons extends App{\n",
    "val person1=new PersonCons(\"Manish\",33)\n",
    "person1.showDet //calling no arg method\n",
    "person1.showDet(\"Satheesh\",56) //calling arg method\n",
    "   \n",
    "}\n",
    "\n",
    "class PersonCons(name:String=\"None\",val age:Int=0) //name as local parameter in class\n",
    "{\n",
    "def showDet=println(s\"Name is $name and age is $age\") //No Argument Method\n",
    "def showDet(name:String,age:Int)=println(s\"Name is $name and age is $age\") //Method with arguments      \n",
    "}\n",
    "OOBasicsCons.main(Array())"
   ]
  },
  {
   "cell_type": "code",
   "execution_count": null,
   "metadata": {},
   "outputs": [],
   "source": []
  }
 ],
 "metadata": {
  "kernelspec": {
   "display_name": "spylon-kernel",
   "language": "scala",
   "name": "spylon-kernel"
  },
  "language_info": {
   "codemirror_mode": "text/x-scala",
   "file_extension": ".scala",
   "help_links": [
    {
     "text": "MetaKernel Magics",
     "url": "https://metakernel.readthedocs.io/en/latest/source/README.html"
    }
   ],
   "mimetype": "text/x-scala",
   "name": "scala",
   "pygments_lexer": "scala",
   "version": "0.4.1"
  }
 },
 "nbformat": 4,
 "nbformat_minor": 2
}
