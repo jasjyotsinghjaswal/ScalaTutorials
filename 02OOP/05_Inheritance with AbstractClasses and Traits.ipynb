{
 "cells": [
  {
   "cell_type": "markdown",
   "metadata": {},
   "source": [
    "# There are situations where you need to have fields or methods implemented called abstract members and classes are abstract classes denoted by abstract keyword"
   ]
  },
  {
   "cell_type": "markdown",
   "metadata": {},
   "source": [
    "### Abstrat classes cannot be instantiated and are meant to be extended later where subclass itself needs to be abstract or need to implement unimplemented methods"
   ]
  },
  {
   "cell_type": "markdown",
   "metadata": {},
   "source": [
    "### Override keyword is not necessary for abstract members implemented in subclass"
   ]
  },
  {
   "cell_type": "code",
   "execution_count": 2,
   "metadata": {},
   "outputs": [
    {
     "ename": "<console>",
     "evalue": "29: error: class Dog needs to be abstract, since:\r",
     "output_type": "error",
     "traceback": [
      "<console>:29: error: class Dog needs to be abstract, since:\r",
      "it has 2 unimplemented members.\r",
      "/** As seen from class Dog, the missing signatures are as follows.\r",
      " *  For convenience, these are usable as stub implementations.\r",
      " */\r",
      "  def eat: Unit = ???\r",
      "  val num: Int = ???\r",
      "\r",
      "           class Dog extends Animal{\r",
      "                 ^",
      ""
     ]
    }
   ],
   "source": [
    "object Inheritance extends App{\n",
    "    abstract class Animal{\n",
    "       val num:Int \n",
    "       def eat:Unit\n",
    "    }\n",
    "    class Dog extends Animal{\n",
    "       def dogbehaviour=println(\"This is a dogs behavior\") \n",
    "    }\n",
    "    val d=new Dog()\n",
    "    d.dogbehaviour \n",
    "}\n",
    "Inheritance.main(Array()) //will fail as method eat and variable eat are not implemented in subclass and it needs to be done as they are unimplemented in superclass"
   ]
  },
  {
   "cell_type": "code",
   "execution_count": 5,
   "metadata": {},
   "outputs": [
    {
     "name": "stdout",
     "output_type": "stream",
     "text": [
      "This is a dogs behavior\n"
     ]
    },
    {
     "data": {
      "text/plain": [
       "defined object Inheritance\n"
      ]
     },
     "execution_count": 5,
     "metadata": {},
     "output_type": "execute_result"
    }
   ],
   "source": [
    "object Inheritance extends App{\n",
    "    abstract class Animal{\n",
    "       val num:Int \n",
    "       def eat:Unit\n",
    "    }\n",
    "    class Dog extends Animal{\n",
    "       def dogbehaviour=println(\"This is a dogs behavior\")\n",
    "       override def eat=println(\"This is a dogs behavior\")\n",
    "       val num=33 \n",
    "    }\n",
    "    val d=new Dog()\n",
    "    d.dogbehaviour \n",
    "}\n",
    "Inheritance.main(Array()) //will succeed as abstract members num and eat are implemented in subclass"
   ]
  },
  {
   "cell_type": "markdown",
   "metadata": {},
   "source": [
    "# Scala has Single Class inheritance but multiple trait inheritance\n",
    "### Both Traits and Abstract classes can have implemented and unimplemented members\n",
    "### Traits cannot have constructors , Abstract Classes can\n",
    "### Only a Single Class can be inherited whereas multiple traits can be inherited\n",
    "### Class describe type Traits describe behaviour of type"
   ]
  },
  {
   "cell_type": "code",
   "execution_count": 15,
   "metadata": {},
   "outputs": [
    {
     "ename": "<console>",
     "evalue": "40: error: class Dog needs to be abstract, since:\r",
     "output_type": "error",
     "traceback": [
      "<console>:40: error: class Dog needs to be abstract, since:\r",
      "it has 2 unimplemented members.\r",
      "/** As seen from class Dog, the missing signatures are as follows.\r",
      " *  For convenience, these are usable as stub implementations.\r",
      " */\r",
      "  // Members declared in Inheritance.carnivore\r",
      "  def geography: String = ???\r",
      "\r",
      "  // Members declared in Inheritance.herbivore\r",
      "  def aggresive: Boolean = ???\r",
      "\r",
      "           class Dog extends Animal with carnivore with herbivore{\r",
      "                 ^",
      ""
     ]
    }
   ],
   "source": [
    "object Inheritance extends App{\n",
    "    abstract class Animal{\n",
    "       val num:Int //Unimplemented\n",
    "       def eat:Unit //Unimplemented\n",
    "       def animalIsEndgred=false  //Implemented\n",
    "    }\n",
    "    trait carnivore{\n",
    "        def eatbehavior=\"Eats Animals\" //Implemented\n",
    "        def geography:String //Unimplemented\n",
    "    }\n",
    "     trait herbivore{\n",
    "        def sleepbehavior=\"Sleeps forever\" //Implemented\n",
    "        def aggresive:Boolean //Unimplemented\n",
    "    }\n",
    "    class Dog extends Animal with carnivore with herbivore{\n",
    "       def dogbehaviour=println(\"This is a dogs behavior\")\n",
    "       override def eat=println(\"This is a dogs behavior\")\n",
    "       val num=33 \n",
    "    }\n",
    "    val d=new Dog()\n",
    "    d.dogbehaviour \n",
    "}\n",
    "Inheritance.main(Array()) //will fail as methods geography and aggresive are unimplemented from carnivore and herbivore respectively"
   ]
  },
  {
   "cell_type": "code",
   "execution_count": 14,
   "metadata": {},
   "outputs": [
    {
     "name": "stdout",
     "output_type": "stream",
     "text": [
      "This is a dogs behavior\n"
     ]
    },
    {
     "data": {
      "text/plain": [
       "defined object Inheritance\n"
      ]
     },
     "execution_count": 14,
     "metadata": {},
     "output_type": "execute_result"
    }
   ],
   "source": [
    "object Inheritance extends App{\n",
    "    abstract class Animal{\n",
    "       val num:Int //Unimplemented\n",
    "       def eat:Unit //Unimplemented\n",
    "       def animalIsEndgred=false  //Implemented\n",
    "    }\n",
    "    trait carnivore{\n",
    "        def eatbehavior=\"Eats Animals\" //Implemented\n",
    "        def geography:String //Unimplemented\n",
    "    }\n",
    "     trait herbivore{\n",
    "        def sleepbehavior=\"Sleeps forever\" //Implemented\n",
    "        def aggresive:Boolean //Unimplemented\n",
    "    }\n",
    "    class Dog extends Animal with carnivore with herbivore{\n",
    "       def dogbehaviour=println(\"This is a dogs behavior\")\n",
    "       override def eat=println(\"This is a dogs behavior\")\n",
    "       val num=3\n",
    "       def geography=\"Asia\"\n",
    "       def aggresive=false\n",
    "    }\n",
    "    val d=new Dog()\n",
    "    d.dogbehaviour \n",
    "}\n",
    "Inheritance.main(Array()) //will succeed as methods geography and aggresive are implemented from carnivore and herbivore respectively"
   ]
  },
  {
   "cell_type": "markdown",
   "metadata": {},
   "source": [
    "### We need to use override when implementing toString equals or hashcode method as they are members of AnyRef Class\n",
    "### Objects can also extend class"
   ]
  },
  {
   "cell_type": "code",
   "execution_count": 16,
   "metadata": {},
   "outputs": [
    {
     "ename": "<console>",
     "evalue": "32: error: object creation impossible, since:\r",
     "output_type": "error",
     "traceback": [
      "<console>:32: error: object creation impossible, since:\r",
      "it has 2 unimplemented members.\r",
      "/** As seen from object Species, the missing signatures are as follows.\r",
      " *  For convenience, these are usable as stub implementations.\r",
      " */\r",
      "  def eat: Unit = ???\r",
      "  val num: Int = ???\r",
      "\r",
      "           object Species extends Animal\r",
      "                  ^",
      ""
     ]
    }
   ],
   "source": [
    "object Inheritance extends App{\n",
    "    abstract class Animal{\n",
    "       val num:Int //Unimplemented\n",
    "       def eat:Unit //Unimplemented\n",
    "       def animalIsEndgred=false  //Implemented\n",
    "    }\n",
    "    object Species extends Animal\n",
    "    {\n",
    "        \n",
    "    }\n",
    "}\n",
    "Inheritance.main(Array()) //Code fails as abstract memebers are not implemented"
   ]
  },
  {
   "cell_type": "code",
   "execution_count": 18,
   "metadata": {},
   "outputs": [
    {
     "data": {
      "text/plain": [
       "defined object Inheritance\n"
      ]
     },
     "execution_count": 18,
     "metadata": {},
     "output_type": "execute_result"
    }
   ],
   "source": [
    "object Inheritance extends App{\n",
    "    abstract class Animal{\n",
    "       val num:Int //Unimplemented\n",
    "       def eat:Unit //Unimplemented\n",
    "       def animalIsEndgred=false  //Implemented\n",
    "    }\n",
    "    object Species extends Animal\n",
    "    {\n",
    "        def eat:Unit=println()\n",
    "        val num=0\n",
    "    }\n",
    "}\n",
    "Inheritance.main(Array()) //Code succeeeds as abstract memebers are implemented"
   ]
  },
  {
   "cell_type": "code",
   "execution_count": null,
   "metadata": {},
   "outputs": [],
   "source": []
  }
 ],
 "metadata": {
  "kernelspec": {
   "display_name": "spylon-kernel",
   "language": "scala",
   "name": "spylon-kernel"
  },
  "language_info": {
   "codemirror_mode": "text/x-scala",
   "file_extension": ".scala",
   "help_links": [
    {
     "text": "MetaKernel Magics",
     "url": "https://metakernel.readthedocs.io/en/latest/source/README.html"
    }
   ],
   "mimetype": "text/x-scala",
   "name": "scala",
   "pygments_lexer": "scala",
   "version": "0.4.1"
  }
 },
 "nbformat": 4,
 "nbformat_minor": 2
}
