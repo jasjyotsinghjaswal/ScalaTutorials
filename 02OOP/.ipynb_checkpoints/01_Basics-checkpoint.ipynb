{
 "cells": [
  {
   "cell_type": "markdown",
   "metadata": {},
   "source": [
    "# Class Parameters are not Class Memebers or Fields\n",
    "## To be able to use them as fields use val or var before the Class Parameters"
   ]
  },
  {
   "cell_type": "code",
   "execution_count": 5,
   "metadata": {},
   "outputs": [
    {
     "ename": "<console>",
     "evalue": "15: error: value age is not a member of Student\r",
     "output_type": "error",
     "traceback": [
      "<console>:15: error: value age is not a member of Student\r",
      "          print(stu.age)\r",
      "                    ^",
      ""
     ]
    }
   ],
   "source": [
    "object TestObject extends App{\n",
    "   val stu=new Student(\"Jamie\",33) \n",
    "   print(stu.age)\n",
    "    \n",
    "}\n",
    "class Student(name:String,age:Int)"
   ]
  },
  {
   "cell_type": "code",
   "execution_count": 30,
   "metadata": {},
   "outputs": [
    {
     "ename": "<console>",
     "evalue": "34: error: TestObject is already defined as object TestObject\r",
     "output_type": "error",
     "traceback": [
      "<console>:34: error: TestObject is already defined as object TestObject\r",
      "       object TestObject extends App {\r",
      "              ^",
      ""
     ]
    }
   ],
   "source": [
    "object TestObject {\n",
    "   def Main{ \n",
    "   val stu=new Student(\"Jamie\",33) \n",
    "   print(stu.age)\n",
    "   print(stu.school)\n",
    "   }    \n",
    "}\n",
    "object TestObject extends App {\n",
    "\n",
    "   val stu=new Student(\"Jamie\",33) \n",
    "   print(stu.age)\n",
    "   print(stu.school)\n",
    "   \n",
    "}\n",
    "TestObject.main(Array())"
   ]
  },
  {
   "cell_type": "code",
   "execution_count": 29,
   "metadata": {},
   "outputs": [
    {
     "name": "stdout",
     "output_type": "stream",
     "text": [
      "Class Instantiated :\n",
      "33LA MARTS"
     ]
    },
    {
     "data": {
      "text/plain": [
       "defined object TestObject\n"
      ]
     },
     "execution_count": 29,
     "metadata": {},
     "output_type": "execute_result"
    }
   ],
   "source": []
  },
  {
   "cell_type": "code",
   "execution_count": null,
   "metadata": {},
   "outputs": [],
   "source": [
    "\n"
   ]
  },
  {
   "cell_type": "code",
   "execution_count": null,
   "metadata": {},
   "outputs": [],
   "source": []
  }
 ],
 "metadata": {
  "kernelspec": {
   "display_name": "spylon-kernel",
   "language": "scala",
   "name": "spylon-kernel"
  }
 },
 "nbformat": 4,
 "nbformat_minor": 2
}
