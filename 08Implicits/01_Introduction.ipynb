{
 "cells": [
  {
   "cell_type": "code",
   "execution_count": 18,
   "metadata": {},
   "outputs": [
    {
     "data": {
      "text/plain": [
       "warning: there was one feature warning; re-run with -feature for details\n",
       "defined object ImplicitIntro\n"
      ]
     },
     "execution_count": 18,
     "metadata": {},
     "output_type": "execute_result"
    }
   ],
   "source": [
    "object ImplicitIntro extends App{\n",
    "    val pair=\"Daniel\"->\"555\"\n",
    "    val intPair=1->\"One\"\n",
    "    case class Person(name:String)\n",
    "    {\n",
    "        def greet(num:Int)=s\"Hi my name is ${name} of type ${num}\"\n",
    "    }\n",
    "    implicit def fromStringToPerson(str:String)=Person(str)\n",
    "    println(\"Lakki\".greet(5)) //println(fromStringToPerson(\"Lakki\").greet)\n",
    "    //Implicit params\n",
    "    def adder(a:Int)(implicit b:Int)=a+b\n",
    "    implicit val defval=45\n",
    "    println(adder(23))\n",
    "}"
   ]
  },
  {
   "cell_type": "code",
   "execution_count": 19,
   "metadata": {},
   "outputs": [
    {
     "name": "stdout",
     "output_type": "stream",
     "text": [
      "Hi my name is Lakki of type 5\n",
      "68\n"
     ]
    }
   ],
   "source": [
    "ImplicitIntro.main(Array())"
   ]
  },
  {
   "cell_type": "code",
   "execution_count": null,
   "metadata": {},
   "outputs": [],
   "source": []
  }
 ],
 "metadata": {
  "kernelspec": {
   "display_name": "spylon-kernel",
   "language": "scala",
   "name": "spylon-kernel"
  },
  "language_info": {
   "codemirror_mode": "text/x-scala",
   "file_extension": ".scala",
   "help_links": [
    {
     "text": "MetaKernel Magics",
     "url": "https://metakernel.readthedocs.io/en/latest/source/README.html"
    }
   ],
   "mimetype": "text/x-scala",
   "name": "scala",
   "pygments_lexer": "scala",
   "version": "0.4.1"
  }
 },
 "nbformat": 4,
 "nbformat_minor": 2
}
