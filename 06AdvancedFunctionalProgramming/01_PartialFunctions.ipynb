{
 "cells": [
  {
   "cell_type": "code",
   "execution_count": 2,
   "metadata": {},
   "outputs": [
    {
     "data": {
      "text/plain": [
       "aFunc: Int => Int = <function1>\n"
      ]
     },
     "execution_count": 2,
     "metadata": {},
     "output_type": "execute_result"
    }
   ],
   "source": [
    "val aFunc=(x:Int)=>x+1// Func[Int,Int] === Int=>Int"
   ]
  },
  {
   "cell_type": "code",
   "execution_count": 3,
   "metadata": {},
   "outputs": [
    {
     "data": {
      "text/plain": [
       "aNicerFuzzyFunc: Int => Int = <function1>\n"
      ]
     },
     "execution_count": 3,
     "metadata": {},
     "output_type": "execute_result"
    }
   ],
   "source": [
    "//{1,2,5}=>Int\n",
    "val aNicerFuzzyFunc=(x:Int)=>x match{\n",
    "    case 1=>42\n",
    "    case 2=>35\n",
    "    case 3=>999\n",
    "}"
   ]
  },
  {
   "cell_type": "code",
   "execution_count": 4,
   "metadata": {},
   "outputs": [
    {
     "data": {
      "text/plain": [
       "aPartialFunc: PartialFunction[Int,Int] = <function1>\n"
      ]
     },
     "execution_count": 4,
     "metadata": {},
     "output_type": "execute_result"
    }
   ],
   "source": [
    "//Short hand notation for partial func\n",
    "val aPartialFunc:PartialFunction[Int,Int]={\n",
    "    case 1=>42\n",
    "    case 2=>35\n",
    "    case 3=>999\n",
    "}"
   ]
  },
  {
   "cell_type": "code",
   "execution_count": 5,
   "metadata": {},
   "outputs": [
    {
     "data": {
      "text/plain": [
       "res0: Int = 35\n"
      ]
     },
     "execution_count": 5,
     "metadata": {},
     "output_type": "execute_result"
    }
   ],
   "source": [
    "aPartialFunc(2)"
   ]
  },
  {
   "cell_type": "code",
   "execution_count": 7,
   "metadata": {},
   "outputs": [
    {
     "ename": "scala.MatchError",
     "evalue": " 34564 (of class java.lang.Integer)\r",
     "output_type": "error",
     "traceback": [
      "scala.MatchError: 34564 (of class java.lang.Integer)\r",
      "  at scala.PartialFunction$$anon$1.apply(PartialFunction.scala:253)\r",
      "  at scala.PartialFunction$$anon$1.apply(PartialFunction.scala:251)\r",
      "  at $anonfun$1.applyOrElse(<console>:25)\r",
      "  at $anonfun$1.applyOrElse(<console>:25)\r",
      "  at scala.runtime.AbstractPartialFunction$mcII$sp.apply$mcII$sp(AbstractPartialFunction.scala:36)\r",
      "  ... 37 elided",
      ""
     ]
    }
   ],
   "source": [
    "//Undefined value will fail as Partial function are based on pattern matching\n",
    "aPartialFunc(34564)"
   ]
  },
  {
   "cell_type": "code",
   "execution_count": 9,
   "metadata": {},
   "outputs": [
    {
     "data": {
      "text/plain": [
       "res4: Boolean = false\n"
      ]
     },
     "execution_count": 9,
     "metadata": {},
     "output_type": "execute_result"
    }
   ],
   "source": [
    "//isDefinedAt Checks if partial function is defined for a particular value\n",
    "aPartialFunc.isDefinedAt(4)"
   ]
  },
  {
   "cell_type": "code",
   "execution_count": 10,
   "metadata": {},
   "outputs": [
    {
     "data": {
      "text/plain": [
       "res5: Boolean = true\n"
      ]
     },
     "execution_count": 10,
     "metadata": {},
     "output_type": "execute_result"
    }
   ],
   "source": [
    "aPartialFunc.isDefinedAt(2)"
   ]
  },
  {
   "cell_type": "code",
   "execution_count": 11,
   "metadata": {},
   "outputs": [
    {
     "data": {
      "text/plain": [
       "lifted: Int => Option[Int] = <function1>\n"
      ]
     },
     "execution_count": 11,
     "metadata": {},
     "output_type": "execute_result"
    }
   ],
   "source": [
    "//Partial function can be lifted to total functions returning options \n",
    "//Int=>Option[Int]\n",
    "val lifted=aPartialFunc.lift"
   ]
  },
  {
   "cell_type": "code",
   "execution_count": 12,
   "metadata": {},
   "outputs": [
    {
     "data": {
      "text/plain": [
       "res6: Option[Int] = Some(35)\n"
      ]
     },
     "execution_count": 12,
     "metadata": {},
     "output_type": "execute_result"
    }
   ],
   "source": [
    "lifted(2)"
   ]
  },
  {
   "cell_type": "code",
   "execution_count": 13,
   "metadata": {},
   "outputs": [
    {
     "data": {
      "text/plain": [
       "res7: Option[Int] = None\n"
      ]
     },
     "execution_count": 13,
     "metadata": {},
     "output_type": "execute_result"
    }
   ],
   "source": [
    "lifted(7)"
   ]
  },
  {
   "cell_type": "code",
   "execution_count": 14,
   "metadata": {},
   "outputs": [
    {
     "data": {
      "text/plain": [
       "pfChain: PartialFunction[Int,Int] = <function1>\n"
      ]
     },
     "execution_count": 14,
     "metadata": {},
     "output_type": "execute_result"
    }
   ],
   "source": [
    "//Chaining Partial function\n",
    "val pfChain=aPartialFunc.orElse[Int,Int]{\n",
    "   case 45=>67\n",
    "}"
   ]
  },
  {
   "cell_type": "code",
   "execution_count": 15,
   "metadata": {},
   "outputs": [
    {
     "data": {
      "text/plain": [
       "res8: Int = 42\n"
      ]
     },
     "execution_count": 15,
     "metadata": {},
     "output_type": "execute_result"
    }
   ],
   "source": [
    "pfChain(1)"
   ]
  },
  {
   "cell_type": "code",
   "execution_count": 16,
   "metadata": {},
   "outputs": [
    {
     "data": {
      "text/plain": [
       "res9: Int = 35\n"
      ]
     },
     "execution_count": 16,
     "metadata": {},
     "output_type": "execute_result"
    }
   ],
   "source": [
    "pfChain(2)"
   ]
  },
  {
   "cell_type": "code",
   "execution_count": 17,
   "metadata": {},
   "outputs": [
    {
     "data": {
      "text/plain": [
       "res10: Int = 67\n"
      ]
     },
     "execution_count": 17,
     "metadata": {},
     "output_type": "execute_result"
    }
   ],
   "source": [
    "pfChain(45)"
   ]
  },
  {
   "cell_type": "code",
   "execution_count": 18,
   "metadata": {},
   "outputs": [
    {
     "ename": "scala.MatchError",
     "evalue": " 78 (of class java.lang.Integer)\r",
     "output_type": "error",
     "traceback": [
      "scala.MatchError: 78 (of class java.lang.Integer)\r",
      "  at scala.PartialFunction$$anon$1.apply(PartialFunction.scala:253)\r",
      "  at scala.PartialFunction$$anon$1.apply(PartialFunction.scala:251)\r",
      "  at $anonfun$1.applyOrElse(<console>:27)\r",
      "  at $anonfun$1.applyOrElse(<console>:27)\r",
      "  at scala.runtime.AbstractPartialFunction$mcII$sp.apply$mcII$sp(AbstractPartialFunction.scala:36)\r",
      "  at scala.runtime.AbstractPartialFunction$mcII$sp.apply(AbstractPartialFunction.scala:36)\r",
      "  at scala.runtime.AbstractPartialFunction$mcII$sp.apply(AbstractPartialFunction.scala:28)\r",
      "  at $anonfun$1.applyOrElse(<console>:25)\r",
      "  at $anonfun$1.applyOrElse(<console>:25)\r",
      "  at scala.PartialFunction$OrElse.apply(PartialFunction.scala:167)\r",
      "  at scala.Function1$class.apply$mcII$sp(Function1.scala:36)\r",
      "  at scala.PartialFunction$OrElse.apply$mcII$sp(PartialFunction.scala:164)\r",
      "  ... 36 elided",
      ""
     ]
    }
   ],
   "source": [
    "pfChain(78)"
   ]
  },
  {
   "cell_type": "code",
   "execution_count": null,
   "metadata": {},
   "outputs": [],
   "source": [
    "//Partial function extend normal functions\n",
    "val aTotFunc:Int=>Int={\n",
    "    case 1=>99\n",
    "}"
   ]
  },
  {
   "cell_type": "code",
   "execution_count": 19,
   "metadata": {},
   "outputs": [
    {
     "data": {
      "text/plain": [
       "aMappedList: List[Int] = List(34, 11, 22)\n"
      ]
     },
     "execution_count": 19,
     "metadata": {},
     "output_type": "execute_result"
    }
   ],
   "source": [
    "//Higher Order Functions except partial function as well\n",
    "val aMappedList=List(1,2,3).map{\n",
    "    case 1=>34\n",
    "    case 3=>22\n",
    "    case 2=>11\n",
    "}"
   ]
  },
  {
   "cell_type": "code",
   "execution_count": 20,
   "metadata": {},
   "outputs": [
    {
     "ename": "scala.MatchError",
     "evalue": " 7 (of class java.lang.Integer)\r",
     "output_type": "error",
     "traceback": [
      "scala.MatchError: 7 (of class java.lang.Integer)\r",
      "  at $anonfun$1.apply$mcII$sp(<console>:24)\r",
      "  at $anonfun$1.apply(<console>:24)\r",
      "  at $anonfun$1.apply(<console>:24)\r",
      "  at scala.collection.immutable.List.map(List.scala:288)\r",
      "  ... 36 elided",
      ""
     ]
    }
   ],
   "source": [
    "val aMappedList2=List(1,2,7).map{\n",
    "    case 1=>34\n",
    "    case 3=>22\n",
    "    case 2=>11\n",
    "}"
   ]
  },
  {
   "cell_type": "code",
   "execution_count": 21,
   "metadata": {},
   "outputs": [],
   "source": [
    "//Partial functions can have only 1 parameter type"
   ]
  },
  {
   "cell_type": "code",
   "execution_count": null,
   "metadata": {},
   "outputs": [],
   "source": []
  }
 ],
 "metadata": {
  "kernelspec": {
   "display_name": "spylon-kernel",
   "language": "scala",
   "name": "spylon-kernel"
  },
  "language_info": {
   "codemirror_mode": "text/x-scala",
   "file_extension": ".scala",
   "help_links": [
    {
     "text": "MetaKernel Magics",
     "url": "https://metakernel.readthedocs.io/en/latest/source/README.html"
    }
   ],
   "mimetype": "text/x-scala",
   "name": "scala",
   "pygments_lexer": "scala",
   "version": "0.4.1"
  }
 },
 "nbformat": 4,
 "nbformat_minor": 2
}
