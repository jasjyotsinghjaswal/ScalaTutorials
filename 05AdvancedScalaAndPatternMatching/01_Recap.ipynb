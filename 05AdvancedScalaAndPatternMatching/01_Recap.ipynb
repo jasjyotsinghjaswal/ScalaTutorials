{
 "cells": [
  {
   "cell_type": "code",
   "execution_count": 13,
   "metadata": {},
   "outputs": [
    {
     "data": {
      "text/plain": [
       "import scala.annotation.tailrec\n"
      ]
     },
     "execution_count": 13,
     "metadata": {},
     "output_type": "execute_result"
    }
   ],
   "source": [
    " import scala.annotation.tailrec"
   ]
  },
  {
   "cell_type": "code",
   "execution_count": 3,
   "metadata": {},
   "outputs": [
    {
     "data": {
      "text/plain": [
       "aCondn: Boolean = false\r\n",
       "aCondnVal: Int = 33\n"
      ]
     },
     "execution_count": 3,
     "metadata": {},
     "output_type": "execute_result"
    }
   ],
   "source": [
    "val aCondn:Boolean=false\n",
    "val aCondnVal = if(aCondn)  42 else 33"
   ]
  },
  {
   "cell_type": "code",
   "execution_count": 5,
   "metadata": {},
   "outputs": [
    {
     "name": "stdout",
     "output_type": "stream",
     "text": [
      "Hello\n"
     ]
    },
    {
     "data": {
      "text/plain": [
       "aUnit: Unit = ()\n"
      ]
     },
     "execution_count": 5,
     "metadata": {},
     "output_type": "execute_result"
    }
   ],
   "source": [
    "//Unit-Type of expressions that do not return anything meaningful but only do side effects\n",
    "val aUnit=println(\"Hello\")"
   ]
  },
  {
   "cell_type": "code",
   "execution_count": 8,
   "metadata": {},
   "outputs": [
    {
     "data": {
      "text/plain": [
       "aFunc: (x: Int)Int\n"
      ]
     },
     "execution_count": 8,
     "metadata": {},
     "output_type": "execute_result"
    }
   ],
   "source": [
    "//Functions\n",
    "def aFunc(x:Int)=x+1"
   ]
  },
  {
   "cell_type": "code",
   "execution_count": 17,
   "metadata": {},
   "outputs": [],
   "source": [
    "//Recursion-Stack and Tail\n",
    "@tailrec private def fact(n:Int,acc:Int):Int={\n",
    "    if (n<=0) acc\n",
    "    else\n",
    "    fact(n-1,n*acc)\n",
    "}"
   ]
  },
  {
   "cell_type": "code",
   "execution_count": 20,
   "metadata": {},
   "outputs": [
    {
     "data": {
      "text/plain": [
       "defined class Animal\r\n",
       "defined class Dog\r\n",
       "aDog: Animal = Dog@712955a3\n"
      ]
     },
     "execution_count": 20,
     "metadata": {},
     "output_type": "execute_result"
    }
   ],
   "source": [
    "//Scala has single class INheritance and Multiple trait inheritance\n",
    "class Animal\n",
    "class Dog extends Animal\n",
    "val aDog:Animal = new Dog() //Subtyping polymorphsim"
   ]
  },
  {
   "cell_type": "code",
   "execution_count": 23,
   "metadata": {},
   "outputs": [
    {
     "data": {
      "text/plain": [
       "defined trait Carnivore\r\n",
       "defined class Crocodile\n"
      ]
     },
     "execution_count": 23,
     "metadata": {},
     "output_type": "execute_result"
    }
   ],
   "source": [
    "trait Carnivore{\n",
    "    def eats(a:Animal):Unit\n",
    "}\n",
    "class Crocodile extends Animal with Carnivore{\n",
    "    override def eats(a:Animal):Unit = println(\"Crunch\")\n",
    "}"
   ]
  },
  {
   "cell_type": "code",
   "execution_count": 25,
   "metadata": {},
   "outputs": [
    {
     "name": "stdout",
     "output_type": "stream",
     "text": [
      "Crunch\n"
     ]
    },
    {
     "data": {
      "text/plain": [
       "aCroc: Crocodile = Crocodile@2811d82b\n"
      ]
     },
     "execution_count": 25,
     "metadata": {},
     "output_type": "execute_result"
    }
   ],
   "source": [
    "//method notations\n",
    "val aCroc=new Crocodile\n",
    "aCroc.eats(aDog)"
   ]
  },
  {
   "cell_type": "code",
   "execution_count": 27,
   "metadata": {},
   "outputs": [
    {
     "name": "stdout",
     "output_type": "stream",
     "text": [
      "Crunch\n"
     ]
    }
   ],
   "source": [
    "//Above method can also be written using natural language\n",
    "aCroc eats aDog"
   ]
  },
  {
   "cell_type": "code",
   "execution_count": 29,
   "metadata": {},
   "outputs": [
    {
     "name": "stdout",
     "output_type": "stream",
     "text": [
      "Roar\n"
     ]
    },
    {
     "data": {
      "text/plain": [
       "aCar: Carnivore = $anon$1@10241bce\n"
      ]
     },
     "execution_count": 29,
     "metadata": {},
     "output_type": "execute_result"
    }
   ],
   "source": [
    "//Anonymous class where we can instantitate a class on the spot just for that usecase\n",
    "val aCar=new Carnivore{\n",
    "    override def eats(a:Animal):Unit = println(\"Roar\")\n",
    "}\n",
    "aCar.eats(aDog)"
   ]
  },
  {
   "cell_type": "code",
   "execution_count": 31,
   "metadata": {},
   "outputs": [
    {
     "data": {
      "text/plain": [
       "defined class Person\r\n",
       "defined object Person\n"
      ]
     },
     "execution_count": 31,
     "metadata": {},
     "output_type": "execute_result"
    }
   ],
   "source": [
    "class Person\n",
    "object Person extends App\n",
    "//Companion Objects"
   ]
  },
  {
   "cell_type": "code",
   "execution_count": 71,
   "metadata": {},
   "outputs": [
    {
     "data": {
      "text/plain": [
       "defined class Emp\n"
      ]
     },
     "execution_count": 71,
     "metadata": {},
     "output_type": "execute_result"
    }
   ],
   "source": [
    "//case class - have companions and bunch of utilities already defined for us \n",
    "case class Emp(name:String,age:Int)"
   ]
  },
  {
   "cell_type": "code",
   "execution_count": 34,
   "metadata": {},
   "outputs": [
    {
     "ename": "java.lang.RuntimeException",
     "evalue": " This is a runtime exception\r",
     "output_type": "error",
     "traceback": [
      "java.lang.RuntimeException: This is a runtime exception\r",
      "  ... 36 elided",
      ""
     ]
    }
   ],
   "source": [
    "//Exception\n",
    "val throwExcep=throw new RuntimeException(\"This is a runtime exception\")"
   ]
  },
  {
   "cell_type": "code",
   "execution_count": 39,
   "metadata": {},
   "outputs": [
    {
     "name": "stdout",
     "output_type": "stream",
     "text": [
      "EXCEPTION!!!!: java.lang.RuntimeException: This is a runtime exception\n",
      "Some logs\n"
     ]
    }
   ],
   "source": [
    "//Try Catch\n",
    "try{\n",
    "    throw new RuntimeException(\"This is a runtime exception\")\n",
    "}\n",
    "catch{\n",
    "    case e:RuntimeException=>println(\"EXCEPTION!!!!: \"+e)\n",
    "}\n",
    "finally{\n",
    "    println(\"Some logs\")\n",
    "}"
   ]
  },
  {
   "cell_type": "code",
   "execution_count": 45,
   "metadata": {},
   "outputs": [
    {
     "data": {
      "text/plain": [
       "incrementer: Int => Int = <function1>\r\n",
       "res13: Int = 4\n"
      ]
     },
     "execution_count": 45,
     "metadata": {},
     "output_type": "execute_result"
    }
   ],
   "source": [
    "//Functional Programming\n",
    "val incrementer=new Function1[Int,Int]{\n",
    "    def apply(v1:Int)=v1+1\n",
    "}\n",
    "incrementer(3)"
   ]
  },
  {
   "cell_type": "code",
   "execution_count": 49,
   "metadata": {},
   "outputs": [
    {
     "data": {
      "text/plain": [
       "numInc: Int => Int = <function1>\r\n",
       "res14: Int = 22\n"
      ]
     },
     "execution_count": 49,
     "metadata": {},
     "output_type": "execute_result"
    }
   ],
   "source": [
    "//Above func can be written as\n",
    "val numInc=(x:Int)=>x+1\n",
    "numInc(21)"
   ]
  },
  {
   "cell_type": "code",
   "execution_count": 50,
   "metadata": {
    "collapsed": true
   },
   "outputs": [
    {
     "data": {
      "text/plain": [
       "res15: List[Int] = List(2, 5, 6)\n"
      ]
     },
     "execution_count": 50,
     "metadata": {},
     "output_type": "execute_result"
    }
   ],
   "source": [
    "List(1,4,5).map(numInc)"
   ]
  },
  {
   "cell_type": "code",
   "execution_count": 51,
   "metadata": {},
   "outputs": [
    {
     "data": {
      "text/plain": [
       "l1: List[String] = List(a, b, c, d)\r\n",
       "l2: List[Int] = List(1, 2, 3, 4)\n"
      ]
     },
     "execution_count": 51,
     "metadata": {},
     "output_type": "execute_result"
    }
   ],
   "source": [
    "//for comprehension\n",
    "val l1=List(\"a\",\"b\",\"c\",\"d\")\n",
    "val l2=List(1,2,3,4)"
   ]
  },
  {
   "cell_type": "code",
   "execution_count": 56,
   "metadata": {},
   "outputs": [
    {
     "data": {
      "text/plain": [
       "res20: List[String] = List(a1, a2, a3, a4, b1, b2, b3, b4, c1, c2, c3, c4, d1, d2, d3, d4)\n"
      ]
     },
     "execution_count": 56,
     "metadata": {},
     "output_type": "execute_result"
    }
   ],
   "source": [
    "l1.flatMap(elel1=>l2.map(elel2=>elel1+elel2))"
   ]
  },
  {
   "cell_type": "code",
   "execution_count": 57,
   "metadata": {},
   "outputs": [
    {
     "data": {
      "text/plain": [
       "combList: List[String] = List(a2, a3, a4, b2, b3, b4, c2, c3, c4, d2, d3, d4)\n"
      ]
     },
     "execution_count": 57,
     "metadata": {},
     "output_type": "execute_result"
    }
   ],
   "source": [
    "val combList= for{\n",
    "    ele1<-l1\n",
    "    ele2<-l2 if ele2>1\n",
    "}yield ele1+ele2"
   ]
  },
  {
   "cell_type": "code",
   "execution_count": 58,
   "metadata": {},
   "outputs": [
    {
     "data": {
      "text/plain": [
       "aMap: scala.collection.immutable.Map[String,Int] = Map(Ani -> 34533, Rajesh -> 432222)\n"
      ]
     },
     "execution_count": 58,
     "metadata": {},
     "output_type": "execute_result"
    }
   ],
   "source": [
    "val aMap=Map(\"Ani\"->34533,\"Rajesh\"->432222)"
   ]
  },
  {
   "cell_type": "code",
   "execution_count": 69,
   "metadata": {},
   "outputs": [
    {
     "data": {
      "text/plain": [
       "import scala.util._\r\n",
       "anOption: Option[Int] = Some(23)\r\n",
       "aSuccess: scala.util.Try[Int] = Success(45)\n"
      ]
     },
     "execution_count": 69,
     "metadata": {},
     "output_type": "execute_result"
    }
   ],
   "source": [
    "//collection -Options,Try\n",
    "import scala.util._\n",
    "val anOption:Option[Int]=Some(23)\n",
    "val aSuccess:Try[Int]=Success(45)"
   ]
  },
  {
   "cell_type": "code",
   "execution_count": 73,
   "metadata": {},
   "outputs": [
    {
     "data": {
      "text/plain": [
       "e1: Emp = Emp(Jassi,33)\r\n",
       "greeting: String = Jassi,33\n"
      ]
     },
     "execution_count": 73,
     "metadata": {},
     "output_type": "execute_result"
    }
   ],
   "source": [
    "//Pattern Matching\n",
    "val e1=Emp(\"Jassi\",33)\n",
    "val greeting=e1 match {\n",
    "    case Emp(\"Jassi\",23)=>\"Jassi,23\"\n",
    "    case Emp(\"Jassi\",33)=>\"Jassi,33\"\n",
    "    case _=>\"Somrthing else\"\n",
    "}"
   ]
  },
  {
   "cell_type": "code",
   "execution_count": null,
   "metadata": {},
   "outputs": [],
   "source": []
  }
 ],
 "metadata": {
  "kernelspec": {
   "display_name": "spylon-kernel",
   "language": "scala",
   "name": "spylon-kernel"
  },
  "language_info": {
   "codemirror_mode": "text/x-scala",
   "file_extension": ".scala",
   "help_links": [
    {
     "text": "MetaKernel Magics",
     "url": "https://metakernel.readthedocs.io/en/latest/source/README.html"
    }
   ],
   "mimetype": "text/x-scala",
   "name": "scala",
   "pygments_lexer": "scala",
   "version": "0.4.1"
  }
 },
 "nbformat": 4,
 "nbformat_minor": 2
}
