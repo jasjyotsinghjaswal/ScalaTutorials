{
 "cells": [
  {
   "cell_type": "markdown",
   "metadata": {},
   "source": [
    "# Recursive functions perform better when recursive calls are last expressions of the code call.\n",
    "## This allows Scala to preserve a stack frames as opposed to using additional stackframes for recurisve calls\n",
    "## Current stackframe is replaced with new recursive call (also called Tail Recursive)\n",
    "## Use Tailrec to know if function is tail recursive and use accumulators to use Tail recursion effectively"
   ]
  },
  {
   "cell_type": "code",
   "execution_count": 18,
   "metadata": {},
   "outputs": [
    {
     "data": {
      "text/plain": [
       "import scala.annotation._\n"
      ]
     },
     "execution_count": 18,
     "metadata": {},
     "output_type": "execute_result"
    }
   ],
   "source": [
    "import scala.annotation._"
   ]
  },
  {
   "cell_type": "markdown",
   "metadata": {},
   "source": [
    "# Bad Function - Not Tail Recursive"
   ]
  },
  {
   "cell_type": "code",
   "execution_count": 26,
   "metadata": {},
   "outputs": [
    {
     "ename": "<console>",
     "evalue": "28: error: could not optimize @tailrec annotated method fact: it contains a recursive call not in tail position\r",
     "output_type": "error",
     "traceback": [
      "<console>:28: error: could not optimize @tailrec annotated method fact: it contains a recursive call not in tail position\r",
      "       def fact(x:Int):Int={\r",
      "           ^",
      ""
     ]
    }
   ],
   "source": [
    "@tailrec\n",
    "def fact(x:Int):Int={\n",
    "    if (x!=1)\n",
    "    {\n",
    "    val res=x*fact(x-1)\n",
    "    println(\"Computing Factorial for\"+x)\n",
    "    return res\n",
    "    }\n",
    "    else\n",
    "    return 1\n",
    "}\n",
    "fact(5)"
   ]
  },
  {
   "cell_type": "markdown",
   "metadata": {},
   "source": [
    "# Good Function - Tail Recursive"
   ]
  },
  {
   "cell_type": "code",
   "execution_count": 25,
   "metadata": {},
   "outputs": [
    {
     "data": {
      "text/plain": [
       "res18: Int = 120\n"
      ]
     },
     "execution_count": 25,
     "metadata": {},
     "output_type": "execute_result"
    }
   ],
   "source": [
    "@tailrec\n",
    "private def fact(x:Int,acc:Int=1):Int={\n",
    "    if (x==1)\n",
    "    return acc\n",
    "    else\n",
    "    fact(x-1,x*acc)\n",
    "}\n",
    "fact(5)"
   ]
  },
  {
   "cell_type": "code",
   "execution_count": 78,
   "metadata": {},
   "outputs": [
    {
     "data": {
      "text/plain": [
       "res62: Boolean = false\n"
      ]
     },
     "execution_count": 78,
     "metadata": {},
     "output_type": "execute_result"
    }
   ],
   "source": [
    "@tailrec\n",
    "private def checkdiv(num:Int,div:Int=2):Boolean= {\n",
    "if ((num==2) || (div==num))\n",
    "    return true;    \n",
    "else if (num%div==0)\n",
    "    return false     \n",
    "else\n",
    "    checkdiv(num,div+1)\n",
    "}\n",
    "\n",
    "checkdiv(99)\n"
   ]
  }
 ],
 "metadata": {
  "kernelspec": {
   "display_name": "spylon-kernel",
   "language": "scala",
   "name": "spylon-kernel"
  },
  "language_info": {
   "codemirror_mode": "text/x-scala",
   "file_extension": ".scala",
   "help_links": [
    {
     "text": "MetaKernel Magics",
     "url": "https://metakernel.readthedocs.io/en/latest/source/README.html"
    }
   ],
   "mimetype": "text/x-scala",
   "name": "scala",
   "pygments_lexer": "scala",
   "version": "0.4.1"
  }
 },
 "nbformat": 4,
 "nbformat_minor": 2
}
