{
 "cells": [
  {
   "cell_type": "markdown",
   "metadata": {},
   "source": [
    "# There can be default args problem if you have leading parameter with default values or too many default values\n",
    "## (i) You need to use named args to solve problem\n",
    "## (ii) Or Pass in every leading argument"
   ]
  },
  {
   "cell_type": "code",
   "execution_count": 16,
   "metadata": {},
   "outputs": [
    {
     "name": "stdout",
     "output_type": "stream",
     "text": [
      "Sum is : 2\n",
      "Sum is : 7\n"
     ]
    },
    {
     "data": {
      "text/plain": [
       "addnum: (x: Int, y: Int)Int\n"
      ]
     },
     "execution_count": 16,
     "metadata": {},
     "output_type": "execute_result"
    }
   ],
   "source": [
    "def addnum(x:Int=1,y:Int=1)=x+y\n",
    "println(\"Sum is : \"+addnum())\n",
    "println(\"Sum is : \"+addnum(3,4))"
   ]
  },
  {
   "cell_type": "code",
   "execution_count": 26,
   "metadata": {},
   "outputs": [
    {
     "data": {
      "text/plain": [
       "addnum2: (x: Int, y: Int)Int\n"
      ]
     },
     "execution_count": 26,
     "metadata": {},
     "output_type": "execute_result"
    }
   ],
   "source": [
    "def addnum2(x:Int=1,y:Int)=x+y"
   ]
  },
  {
   "cell_type": "code",
   "execution_count": 27,
   "metadata": {},
   "outputs": [
    {
     "ename": "<console>",
     "evalue": "28: error: not enough arguments for method addnum2: (x: Int, y: Int)Int.\r",
     "output_type": "error",
     "traceback": [
      "<console>:28: error: not enough arguments for method addnum2: (x: Int, y: Int)Int.\r",
      "Unspecified value parameter y.\r",
      "       println(\"Sum is : \"+addnum2(4))\r",
      "                                  ^",
      ""
     ]
    }
   ],
   "source": [
    "println(\"Sum is : \"+addnum2(4))"
   ]
  },
  {
   "cell_type": "code",
   "execution_count": 28,
   "metadata": {},
   "outputs": [
    {
     "name": "stdout",
     "output_type": "stream",
     "text": [
      "Sum is : 6\n"
     ]
    }
   ],
   "source": [
    "println(\"Sum is : \"+addnum2(y=5))"
   ]
  },
  {
   "cell_type": "code",
   "execution_count": 30,
   "metadata": {},
   "outputs": [
    {
     "name": "stdout",
     "output_type": "stream",
     "text": [
      "Sum is : 4\n"
     ]
    }
   ],
   "source": [
    "println(\"Sum is : \"+addnum2(1,3))"
   ]
  },
  {
   "cell_type": "code",
   "execution_count": 19,
   "metadata": {},
   "outputs": [
    {
     "name": "stdout",
     "output_type": "stream",
     "text": [
      "Sum is : 5\n"
     ]
    },
    {
     "data": {
      "text/plain": [
       "addnum: (x: Int, y: Int)Int\n"
      ]
     },
     "execution_count": 19,
     "metadata": {},
     "output_type": "execute_result"
    }
   ],
   "source": [
    "def addnum3(x:Int,y:Int=1)=x+y\n",
    "println(\"Sum is : \"+addnum3(4))"
   ]
  },
  {
   "cell_type": "code",
   "execution_count": null,
   "metadata": {},
   "outputs": [],
   "source": []
  }
 ],
 "metadata": {
  "kernelspec": {
   "display_name": "spylon-kernel",
   "language": "scala",
   "name": "spylon-kernel"
  },
  "language_info": {
   "codemirror_mode": "text/x-scala",
   "file_extension": ".scala",
   "help_links": [
    {
     "text": "MetaKernel Magics",
     "url": "https://metakernel.readthedocs.io/en/latest/source/README.html"
    }
   ],
   "mimetype": "text/x-scala",
   "name": "scala",
   "pygments_lexer": "scala",
   "version": "0.4.1"
  }
 },
 "nbformat": 4,
 "nbformat_minor": 2
}
