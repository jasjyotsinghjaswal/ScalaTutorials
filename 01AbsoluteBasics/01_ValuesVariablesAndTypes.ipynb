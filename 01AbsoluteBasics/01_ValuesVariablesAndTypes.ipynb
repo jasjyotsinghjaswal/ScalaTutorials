{
 "cells": [
  {
   "cell_type": "code",
   "execution_count": 44,
   "metadata": {},
   "outputs": [],
   "source": [
    "//Vals are Immutable\n",
    "//Vars are Mutable and can be reassigned\n",
    "//Compiler Can Infer type\n",
    "//If Type is specified value assigned should confirm to the type\n",
    "//; Semicolons are necessary if you have multiple statements in one line"
   ]
  },
  {
   "cell_type": "code",
   "execution_count": 45,
   "metadata": {
    "scrolled": true
   },
   "outputs": [
    {
     "data": {
      "text/plain": [
       "defined object ValueVariableTypes\n"
      ]
     },
     "execution_count": 45,
     "metadata": {},
     "output_type": "execute_result"
    }
   ],
   "source": [
    "object ValueVariableTypes extends App{\n",
    "val aString:String=\"This is a text\"\n",
    "val aInt:Int=33  \n",
    "val aLong:Long=4558888990000001234L\n",
    "}"
   ]
  },
  {
   "cell_type": "markdown",
   "metadata": {},
   "source": [
    "# Defining DIfferent type of Scala Variables(VALS)"
   ]
  },
  {
   "cell_type": "code",
   "execution_count": null,
   "metadata": {},
   "outputs": [],
   "source": [
    "val aString:String=\"This is a text\"\n",
    "val aLong:Long=4558888990000001234L;\n",
    "val aInt:Int=33  \n",
    "println(\"Test value of variable aInt:\"+aInt)\n",
    "val a2String=\"This is a random string\";\n",
    "val isActive:Boolean=false\n",
    "val mybigdecimal=0.23456\n",
    "val mybigdecimal2=0.23456f\n",
    "val aShort2:Short=345"
   ]
  },
  {
   "cell_type": "markdown",
   "metadata": {},
   "source": [
    "#  SHORT OUT OF RANGE"
   ]
  },
  {
   "cell_type": "code",
   "execution_count": 47,
   "metadata": {
    "scrolled": true
   },
   "outputs": [
    {
     "ename": "<console>",
     "evalue": "24: error: type mismatch;\r",
     "output_type": "error",
     "traceback": [
      "<console>:24: error: type mismatch;\r",
      " found   : Int(345678)\r",
      " required: Short\r",
      "       val aShort:Short=345678\r",
      "                        ^",
      ""
     ]
    }
   ],
   "source": [
    "val aShort:Short=345678"
   ]
  },
  {
   "cell_type": "markdown",
   "metadata": {},
   "source": [
    "# Checking Behavior of Val"
   ]
  },
  {
   "cell_type": "code",
   "execution_count": 42,
   "metadata": {},
   "outputs": [
    {
     "ename": "<console>",
     "evalue": "28: error: reassignment to val\r",
     "output_type": "error",
     "traceback": [
      "<console>:28: error: reassignment to val\r",
      "       String1=\"Overriding STring Values..Should Fail\"\r",
      "              ^",
      ""
     ]
    }
   ],
   "source": [
    "val String1=\"New String Value\"\n",
    "println(\"Old Value: \"+String1)\n",
    "String1=\"Overriding STring Values..Should Fail\"\n",
    "println(\"New Value: \"+String1)"
   ]
  },
  {
   "cell_type": "markdown",
   "metadata": {},
   "source": [
    "# Checking behavior of Var"
   ]
  },
  {
   "cell_type": "code",
   "execution_count": 50,
   "metadata": {},
   "outputs": [
    {
     "name": "stdout",
     "output_type": "stream",
     "text": [
      "Old Value: New String Value\n",
      "New Value: Overriding STring Values..Should Succeed\n",
      "345\n"
     ]
    },
    {
     "data": {
      "text/plain": [
       "String2: String = Overriding STring Values..Should Succeed\r\n",
       "String2: String = Overriding STring Values..Should Succeed\n"
      ]
     },
     "execution_count": 50,
     "metadata": {},
     "output_type": "execute_result"
    }
   ],
   "source": [
    "var String2=\"New String Value\"\n",
    "println(\"Old Value: \"+String2)\n",
    "String2=\"Overriding STring Values..Should Succeed\"\n",
    "println(\"New Value: \"+String2)\n",
    "println(aShort2)"
   ]
  }
 ],
 "metadata": {
  "kernelspec": {
   "display_name": "spylon-kernel",
   "language": "scala",
   "name": "spylon-kernel"
  },
  "language_info": {
   "codemirror_mode": "text/x-scala",
   "file_extension": ".scala",
   "help_links": [
    {
     "text": "MetaKernel Magics",
     "url": "https://metakernel.readthedocs.io/en/latest/source/README.html"
    }
   ],
   "mimetype": "text/x-scala",
   "name": "scala",
   "pygments_lexer": "scala",
   "version": "0.4.1"
  }
 },
 "nbformat": 4,
 "nbformat_minor": 2
}
