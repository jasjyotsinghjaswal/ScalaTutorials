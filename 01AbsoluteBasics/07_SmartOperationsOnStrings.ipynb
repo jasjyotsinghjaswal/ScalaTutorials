{
 "cells": [
  {
   "cell_type": "code",
   "execution_count": 4,
   "metadata": {},
   "outputs": [
    {
     "name": "stdout",
     "output_type": "stream",
     "text": [
      "CharAt example :i\n",
      "Substring example : a r\n"
     ]
    },
    {
     "data": {
      "text/plain": [
       "str: String = This is a random text\n"
      ]
     },
     "execution_count": 4,
     "metadata": {},
     "output_type": "execute_result"
    }
   ],
   "source": [
    "val str=\"This is a random text\"\n"
   ]
  },
  {
   "cell_type": "code",
   "execution_count": 17,
   "metadata": {},
   "outputs": [
    {
     "name": "stdout",
     "output_type": "stream",
     "text": [
      "CharAt example :i\n",
      "Substring example : a r\n",
      "Split example :List(This, is, a, random, text)\n",
      "StartsWith example :true\n",
      "Replace example :This-is-a-random-text\n",
      "LowerCase example :this is a random text\n",
      "Reverse example :txet modnar a si sihT\n",
      "Length example :21\n",
      "Take example :Th\n",
      "Concat example : - This is a random text - \n"
     ]
    }
   ],
   "source": [
    "println(\"CharAt example :\"+str.charAt(2))\n",
    "println(\"Substring example :\"+str.substring(7,11))\n",
    "println(\"Split example :\"+str.split(\" \").toList)\n",
    "println(\"StartsWith example :\"+str.startsWith(\"This\"))\n",
    "println(\"Replace example :\"+str.replace(\" \",\"-\"))\n",
    "println(\"LowerCase example :\"+str.toLowerCase())\n",
    "println(\"Reverse example :\"+str.reverse)\n",
    "println(\"Length example :\"+str.length)\n",
    "println(\"Take example :\"+str.take(2))\n",
    "println(\"Concat example :\"+\" - \" +str+\" - \")"
   ]
  },
  {
   "cell_type": "markdown",
   "metadata": {},
   "source": [
    "# String Interpolation :S"
   ]
  },
  {
   "cell_type": "code",
   "execution_count": 19,
   "metadata": {},
   "outputs": [
    {
     "data": {
      "text/plain": [
       "name: String = Tim\r\n",
       "age: Int = 23\r\n",
       "greeting: String = Name is Tim and age is 23\n"
      ]
     },
     "execution_count": 19,
     "metadata": {},
     "output_type": "execute_result"
    }
   ],
   "source": [
    "val name=\"Tim\";val age=23;\n",
    "val greeting=s\"Name is ${name} and age is ${age}\""
   ]
  },
  {
   "cell_type": "markdown",
   "metadata": {},
   "source": [
    "# String Interpolators with Expressions"
   ]
  },
  {
   "cell_type": "code",
   "execution_count": 21,
   "metadata": {},
   "outputs": [
    {
     "data": {
      "text/plain": [
       "name: String = Tim\r\n",
       "age: Int = 23\r\n",
       "greeting: String = Name is Tim and age is 24\r\n",
       "greeting2: String = Name is Tim and age is false\n"
      ]
     },
     "execution_count": 21,
     "metadata": {},
     "output_type": "execute_result"
    }
   ],
   "source": [
    "val name=\"Tim\";val age=23;\n",
    "val greeting=s\"Name is ${name} and age is ${age+1}\"\n",
    "val greeting2=s\"Name is ${name} and age is ${age==1}\""
   ]
  },
  {
   "cell_type": "markdown",
   "metadata": {},
   "source": [
    "# String Interpolators:F"
   ]
  },
  {
   "cell_type": "code",
   "execution_count": 41,
   "metadata": {},
   "outputs": [
    {
     "data": {
      "text/plain": [
       "sal: Float = 34561.547\r\n",
       "name: String = James\r\n",
       "greeting2: String = Name is James and sal is 34561.55\r\n",
       "greeting3: String = Name is James and sal is 34561.55\r\n",
       "greeting4: String = Name is James and sal is 34561.55\r\n",
       "greeting5: String = Name is James and sal is 34561.55\r\n",
       "greeting6: String = Name is James and sal is   34561.55\r\n",
       "greeting7: String = Name is James and sal is 34561.5469\n"
      ]
     },
     "execution_count": 41,
     "metadata": {},
     "output_type": "execute_result"
    }
   ],
   "source": [
    "val sal=34561.545678f\n",
    "val name=\"James\"\n",
    "val greeting2=f\"Name is ${name} and sal is ${sal}%1.2f\"\n",
    "val greeting3=f\"Name is ${name} and sal is ${sal}%3.2f\"\n",
    "val greeting4=f\"Name is ${name} and sal is ${sal}%7.2f\"\n",
    "val greeting5=f\"Name is ${name} and sal is ${sal}%8.2f\"\n",
    "val greeting6=f\"Name is ${name} and sal is ${sal}%10.2f\"\n",
    "val greeting7=f\"Name is ${name} and sal is ${sal}%10.4f\""
   ]
  },
  {
   "cell_type": "markdown",
   "metadata": {},
   "source": [
    "# Raw Interpolator:raw (does not esacpe anything and prints as is)"
   ]
  },
  {
   "cell_type": "code",
   "execution_count": 45,
   "metadata": {},
   "outputs": [
    {
     "data": {
      "text/plain": [
       "text: String =\r\n",
       "this is a random\r\n",
       " text\r\n",
       "text2: String = this is a random \\n text\n"
      ]
     },
     "execution_count": 45,
     "metadata": {},
     "output_type": "execute_result"
    }
   ],
   "source": [
    "val text=\"this is a random \\n text\"\n",
    "val text2=raw\"this is a random \\n text\""
   ]
  },
  {
   "cell_type": "code",
   "execution_count": null,
   "metadata": {},
   "outputs": [],
   "source": []
  }
 ],
 "metadata": {
  "kernelspec": {
   "display_name": "spylon-kernel",
   "language": "scala",
   "name": "spylon-kernel"
  },
  "language_info": {
   "codemirror_mode": "text/x-scala",
   "file_extension": ".scala",
   "help_links": [
    {
     "text": "MetaKernel Magics",
     "url": "https://metakernel.readthedocs.io/en/latest/source/README.html"
    }
   ],
   "mimetype": "text/x-scala",
   "name": "scala",
   "pygments_lexer": "scala",
   "version": "0.4.1"
  }
 },
 "nbformat": 4,
 "nbformat_minor": 2
}
