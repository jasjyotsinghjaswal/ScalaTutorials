{
 "cells": [
  {
   "cell_type": "markdown",
   "metadata": {},
   "source": [
    "# Paramertised Function"
   ]
  },
  {
   "cell_type": "code",
   "execution_count": 3,
   "metadata": {},
   "outputs": [
    {
     "name": "stdout",
     "output_type": "stream",
     "text": [
      "Mr. Jasjyot Singh\n"
     ]
    },
    {
     "data": {
      "text/plain": [
       "name: (fname: String, lname: String)String\n"
      ]
     },
     "execution_count": 3,
     "metadata": {},
     "output_type": "execute_result"
    }
   ],
   "source": [
    "def name(fname:String,lname:String):String = \"Mr. \"+fname+\" \"+lname\n",
    "println(name(\"Jasjyot\",\"Singh\"))"
   ]
  },
  {
   "cell_type": "markdown",
   "metadata": {},
   "source": [
    "# Paramterless Function can be called with or without paranthesis"
   ]
  },
  {
   "cell_type": "code",
   "execution_count": 7,
   "metadata": {},
   "outputs": [
    {
     "name": "stdout",
     "output_type": "stream",
     "text": [
      "Cost is :230\n",
      "Cost is :230\n"
     ]
    },
    {
     "data": {
      "text/plain": [
       "cost: ()Int\n"
      ]
     },
     "execution_count": 7,
     "metadata": {},
     "output_type": "execute_result"
    }
   ],
   "source": [
    "def cost():Int=230\n",
    "println(\"Cost is :\" +cost)\n",
    "println(\"Cost is :\" +cost())"
   ]
  },
  {
   "cell_type": "markdown",
   "metadata": {},
   "source": [
    "# Recursive Functions\n",
    "## In Scala Use recursive functions instead of loops whenever required"
   ]
  },
  {
   "cell_type": "code",
   "execution_count": 12,
   "metadata": {},
   "outputs": [
    {
     "data": {
      "text/plain": [
       "concatNTimes: (str: String, reps: Int)String\r\n",
       "res8: String = HelloHelloHelloHelloHelloHello\n"
      ]
     },
     "execution_count": 12,
     "metadata": {},
     "output_type": "execute_result"
    }
   ],
   "source": [
    "def concatNTimes(str:String,reps:Int):String=if (reps==1) return str else return str+concatNTimes(str,reps-1)\n",
    "concatNTimes(\"Hello\",6)"
   ]
  },
  {
   "cell_type": "markdown",
   "metadata": {},
   "source": [
    "# Compiler Can also infer return type of functions like variables (Except for Recursive Functions)"
   ]
  },
  {
   "cell_type": "code",
   "execution_count": 14,
   "metadata": {},
   "outputs": [
    {
     "data": {
      "text/plain": [
       "new_name: (fname: String, lname: String)String\n"
      ]
     },
     "execution_count": 14,
     "metadata": {},
     "output_type": "execute_result"
    }
   ],
   "source": [
    "def new_name(fname:String,lname:String) = \"Mr. \"+fname+\" \"+lname"
   ]
  },
  {
   "cell_type": "markdown",
   "metadata": {},
   "source": [
    "# Unit is return type for Variables and Functions with no return"
   ]
  },
  {
   "cell_type": "code",
   "execution_count": 15,
   "metadata": {},
   "outputs": [
    {
     "data": {
      "text/plain": [
       "noreturnfun: ()Unit\n"
      ]
     },
     "execution_count": 15,
     "metadata": {},
     "output_type": "execute_result"
    }
   ],
   "source": [
    "def noreturnfun()=print(\"Hello\")"
   ]
  },
  {
   "cell_type": "markdown",
   "metadata": {},
   "source": [
    "# Functions inside Functions(Finding Factorial)"
   ]
  },
  {
   "cell_type": "code",
   "execution_count": 83,
   "metadata": {},
   "outputs": [
    {
     "data": {
      "text/plain": [
       "bigfun: (x: Int)Int\r\n",
       "res59: Int = 120\n"
      ]
     },
     "execution_count": 83,
     "metadata": {},
     "output_type": "execute_result"
    }
   ],
   "source": [
    "def bigfun(x:Int):Int={\n",
    "    \n",
    "    def smallfun(y:Int):Int=y\n",
    "    if (x==1)\n",
    "    return 1\n",
    "    else\n",
    "    return x*bigfun(x-1)\n",
    "}\n",
    "bigfun(5)"
   ]
  },
  {
   "cell_type": "code",
   "execution_count": 74,
   "metadata": {},
   "outputs": [
    {
     "data": {
      "text/plain": [
       "checkPrm: (num: Int)Boolean\n"
      ]
     },
     "execution_count": 74,
     "metadata": {},
     "output_type": "execute_result"
    }
   ],
   "source": [
    "def checkPrm(num:Int):Boolean=\n",
    "{\n",
    "def checkdiv(div:Int):Boolean= {    \n",
    "if (div==1 && num==2)\n",
    "    true\n",
    "else if(div==1)\n",
    "    false\n",
    "else\n",
    "   (num%div==0) || checkdiv(div-1)\n",
    "}\n",
    "checkdiv(num-1)    \n",
    "}\n"
   ]
  },
  {
   "cell_type": "code",
   "execution_count": 80,
   "metadata": {},
   "outputs": [
    {
     "name": "stdout",
     "output_type": "stream",
     "text": [
      "Testing for 34: false\n",
      "Testing for 523 :true\n"
     ]
    }
   ],
   "source": [
    "println(\"Testing for 34: \"+checkPrm(37))\n",
    "println(\"Testing for 523 :\"+checkPrm(524))\n",
    "\n"
   ]
  },
  {
   "cell_type": "code",
   "execution_count": null,
   "metadata": {},
   "outputs": [],
   "source": []
  }
 ],
 "metadata": {
  "kernelspec": {
   "display_name": "spylon-kernel",
   "language": "scala",
   "name": "spylon-kernel"
  },
  "language_info": {
   "codemirror_mode": "text/x-scala",
   "file_extension": ".scala",
   "help_links": [
    {
     "text": "MetaKernel Magics",
     "url": "https://metakernel.readthedocs.io/en/latest/source/README.html"
    }
   ],
   "mimetype": "text/x-scala",
   "name": "scala",
   "pygments_lexer": "scala",
   "version": "0.4.1"
  }
 },
 "nbformat": 4,
 "nbformat_minor": 2
}
