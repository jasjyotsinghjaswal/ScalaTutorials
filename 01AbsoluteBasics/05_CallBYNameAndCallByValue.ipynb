{
 "cells": [
  {
   "cell_type": "markdown",
   "metadata": {},
   "source": [
    "# For Call  by Value the passing arguments are evaluated Once but for Call by Name they are evaluated as long and multiple times as they are referenced '=>' delays the execution"
   ]
  },
  {
   "cell_type": "code",
   "execution_count": 1,
   "metadata": {},
   "outputs": [
    {
     "data": {
      "text/plain": [
       "Intitializing Scala interpreter ..."
      ]
     },
     "metadata": {},
     "output_type": "display_data"
    },
    {
     "data": {
      "text/plain": [
       "Spark Web UI available at http://DESKTOP-01M6UVV:4044\n",
       "SparkContext available as 'sc' (version = 2.4.3, master = local[*], app id = local-1564836718684)\n",
       "SparkSession available as 'spark'\n"
      ]
     },
     "metadata": {},
     "output_type": "display_data"
    },
    {
     "data": {
      "text/plain": [
       "callByVal: (x: Long)Unit\n"
      ]
     },
     "execution_count": 1,
     "metadata": {},
     "output_type": "execute_result"
    }
   ],
   "source": [
    "def callByVal(x:Long)\n",
    "{\n",
    "    println(\"Call By Value of x 1st: \"+x)\n",
    "    println(\"Call By Value of x 2nd: \"+x)\n",
    "}"
   ]
  },
  {
   "cell_type": "code",
   "execution_count": 3,
   "metadata": {},
   "outputs": [
    {
     "data": {
      "text/plain": [
       "callByName: (x: => Long)Unit\n"
      ]
     },
     "execution_count": 3,
     "metadata": {},
     "output_type": "execute_result"
    }
   ],
   "source": [
    "def callByName(x: => Long)\n",
    "{\n",
    "    println(\"Call By Name of x 1st: \"+x)\n",
    "    println(\"Call By Name of x 2nd: \"+x)\n",
    "}"
   ]
  },
  {
   "cell_type": "code",
   "execution_count": 4,
   "metadata": {},
   "outputs": [
    {
     "name": "stdout",
     "output_type": "stream",
     "text": [
      "Call By Value of x 1st: 18040195497275\n",
      "Call By Value of x 2nd: 18040195497275\n",
      "Call By Name of x 1st: 18040198099014\n",
      "Call By Name of x 2nd: 18040198187130\n"
     ]
    }
   ],
   "source": [
    "callByVal(System.nanoTime)\n",
    "callByName(System.nanoTime)"
   ]
  },
  {
   "cell_type": "code",
   "execution_count": null,
   "metadata": {},
   "outputs": [],
   "source": []
  }
 ],
 "metadata": {
  "kernelspec": {
   "display_name": "spylon-kernel",
   "language": "scala",
   "name": "spylon-kernel"
  },
  "language_info": {
   "codemirror_mode": "text/x-scala",
   "file_extension": ".scala",
   "help_links": [
    {
     "text": "MetaKernel Magics",
     "url": "https://metakernel.readthedocs.io/en/latest/source/README.html"
    }
   ],
   "mimetype": "text/x-scala",
   "name": "scala",
   "pygments_lexer": "scala",
   "version": "0.4.1"
  }
 },
 "nbformat": 4,
 "nbformat_minor": 2
}
