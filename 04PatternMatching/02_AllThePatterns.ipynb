{
 "cells": [
  {
   "cell_type": "markdown",
   "metadata": {},
   "source": [
    "### Pattern Matching with case classes"
   ]
  },
  {
   "cell_type": "code",
   "execution_count": 1,
   "metadata": {},
   "outputs": [
    {
     "data": {
      "text/plain": [
       "Intitializing Scala interpreter ..."
      ]
     },
     "metadata": {},
     "output_type": "display_data"
    },
    {
     "data": {
      "text/plain": [
       "Spark Web UI available at http://DESKTOP-01M6UVV:4041\n",
       "SparkContext available as 'sc' (version = 2.4.3, master = local[*], app id = local-1567321854615)\n",
       "SparkSession available as 'spark'\n"
      ]
     },
     "metadata": {},
     "output_type": "display_data"
    },
    {
     "data": {
      "text/plain": [
       "defined class Animal\r\n",
       "defined class Dog\r\n",
       "defined class Cat\n"
      ]
     },
     "execution_count": 1,
     "metadata": {},
     "output_type": "execute_result"
    }
   ],
   "source": [
    "class Animal(val name:String)\n",
    "case class Dog(dogname:String) extends Animal(dogname)\n",
    "case class Cat(catname:String) extends Animal(catname)"
   ]
  },
  {
   "cell_type": "code",
   "execution_count": 2,
   "metadata": {},
   "outputs": [
    {
     "data": {
      "text/plain": [
       "animal1: Animal = Animal@7978ed53\r\n",
       "animal2: Dog = Dog(jackie)\r\n",
       "animal3: Cat = Cat(kitty)\n"
      ]
     },
     "execution_count": 2,
     "metadata": {},
     "output_type": "execute_result"
    }
   ],
   "source": [
    "val animal1=new Animal(\"SABRE\")\n",
    "val animal2=Dog(\"jackie\")\n",
    "val animal3=Cat(\"kitty\")"
   ]
  },
  {
   "cell_type": "code",
   "execution_count": 3,
   "metadata": {},
   "outputs": [
    {
     "data": {
      "text/plain": [
       "greeting: (ani: Animal)String\n"
      ]
     },
     "execution_count": 3,
     "metadata": {},
     "output_type": "execute_result"
    }
   ],
   "source": [
    "def greeting(ani:Animal)={\n",
    "    ani match {\n",
    "        case Dog(nm)=>s\"The Dogs name is $nm\"\n",
    "        case Cat(nm)=>s\"The cats name is $nm\"\n",
    "    }\n",
    "}"
   ]
  },
  {
   "cell_type": "code",
   "execution_count": 5,
   "metadata": {},
   "outputs": [
    {
     "data": {
      "text/plain": [
       "res1: String = The cats name is kitty\n"
      ]
     },
     "execution_count": 5,
     "metadata": {},
     "output_type": "execute_result"
    }
   ],
   "source": [
    "greeting(animal2)\n",
    "greeting(animal3)"
   ]
  },
  {
   "cell_type": "markdown",
   "metadata": {},
   "source": [
    "### Pattern matching with Tuples"
   ]
  },
  {
   "cell_type": "code",
   "execution_count": 19,
   "metadata": {},
   "outputs": [
    {
     "data": {
      "text/plain": [
       "aTuple: (Int, Int) = (1,2)\r\n",
       "nTuple1: (Int, (Int, Int)) = (1,(2,4))\r\n",
       "nTuple2: (Int, (Int, Int)) = (1,(7,4))\n"
      ]
     },
     "execution_count": 19,
     "metadata": {},
     "output_type": "execute_result"
    }
   ],
   "source": [
    "val aTuple=(1,2)\n",
    "val nTuple1=(1,(2,4))\n",
    "val nTuple2=(1,(7,4))"
   ]
  },
  {
   "cell_type": "code",
   "execution_count": 20,
   "metadata": {},
   "outputs": [
    {
     "data": {
      "text/plain": [
       "matchTupl1: String = Nested Tuple with 2 as element in 1st tuple\n"
      ]
     },
     "execution_count": 20,
     "metadata": {},
     "output_type": "execute_result"
    }
   ],
   "source": [
    "val matchTupl1=nTuple1 match {\n",
    "    case (x,(2,z)) => \"Nested Tuple with 2 as element in 1st tuple\"\n",
    "    case (x,(y,z)) => s\"Nested Tuple with elements as ($x,($y,$z))\"\n",
    "}"
   ]
  },
  {
   "cell_type": "code",
   "execution_count": 21,
   "metadata": {},
   "outputs": [
    {
     "data": {
      "text/plain": [
       "matchTupl2: String = Nested Tuple with elements as (1,(7,4))\n"
      ]
     },
     "execution_count": 21,
     "metadata": {},
     "output_type": "execute_result"
    }
   ],
   "source": [
    "val matchTupl2=nTuple2 match {\n",
    "    case (x,(2,z)) => \"Nested Tuple with 2 as element in 1st tuple\"\n",
    "    case (x,(y,z)) => s\"Nested Tuple with elements as ($x,($y,$z))\"\n",
    "}"
   ]
  },
  {
   "cell_type": "markdown",
   "metadata": {},
   "source": [
    "### List Patterns"
   ]
  },
  {
   "cell_type": "code",
   "execution_count": 60,
   "metadata": {},
   "outputs": [
    {
     "data": {
      "text/plain": [
       "list1: List[Int] = List(1, 3, 5, 34)\r\n",
       "list2: List[Int] = List(4, 3, 5, 34)\r\n",
       "list3: List[Int] = List(1, 4, 52, 32, 45, 66)\r\n",
       "list4: List[String] = List(JAZZ, SHAMRA)\r\n",
       "list5: List[Int] = List(4, 3, 5, 34, 99)\n"
      ]
     },
     "execution_count": 60,
     "metadata": {},
     "output_type": "execute_result"
    }
   ],
   "source": [
    "val list1=List(1,3,5,34)\n",
    "val list2=List(4,3,5,34)\n",
    "val list3=List(1,4,52,32,45,66)\n",
    "val list4=List(\"JAZZ\",\"SHAMRA\")\n",
    "val list5=List(4,3,5,34,99)"
   ]
  },
  {
   "cell_type": "code",
   "execution_count": 61,
   "metadata": {},
   "outputs": [
    {
     "data": {
      "text/plain": [
       "<console>:27: warning: non-variable type argument String in type pattern List[String] (the underlying of List[String]) is unchecked since it is eliminated by erasure\r\n",
       "           case list:List[String]=>\"This is a list of String\"\r\n",
       "                     ^\n",
       "matchList: (lst: List[Any])String\n"
      ]
     },
     "execution_count": 61,
     "metadata": {},
     "output_type": "execute_result"
    }
   ],
   "source": [
    "def matchList(lst:List[Any])=lst match {\n",
    "    case List(1,_,_,_)=> \"The list is 1 and 3 more args\"\n",
    "    case List(1,_*)=>\"List is 1 and more args\"\n",
    "    case list:List[String]=>\"This is a list of String\"\n",
    "    case _ => \"List is anything else\"\n",
    "}"
   ]
  },
  {
   "cell_type": "code",
   "execution_count": 66,
   "metadata": {},
   "outputs": [
    {
     "data": {
      "text/plain": [
       "res25: String = The list is 1 and 3 more args\n"
      ]
     },
     "execution_count": 66,
     "metadata": {},
     "output_type": "execute_result"
    }
   ],
   "source": [
    "matchList(list1)"
   ]
  },
  {
   "cell_type": "code",
   "execution_count": 67,
   "metadata": {},
   "outputs": [
    {
     "data": {
      "text/plain": [
       "res26: String = This is a list of String\n"
      ]
     },
     "execution_count": 67,
     "metadata": {},
     "output_type": "execute_result"
    }
   ],
   "source": [
    "matchList(list2)"
   ]
  },
  {
   "cell_type": "code",
   "execution_count": 68,
   "metadata": {},
   "outputs": [
    {
     "data": {
      "text/plain": [
       "res27: String = List is 1 and more args\n"
      ]
     },
     "execution_count": 68,
     "metadata": {},
     "output_type": "execute_result"
    }
   ],
   "source": [
    "matchList(list3)"
   ]
  },
  {
   "cell_type": "code",
   "execution_count": 69,
   "metadata": {},
   "outputs": [
    {
     "data": {
      "text/plain": [
       "res28: String = This is a list of String\n"
      ]
     },
     "execution_count": 69,
     "metadata": {},
     "output_type": "execute_result"
    }
   ],
   "source": [
    "matchList(list4)"
   ]
  },
  {
   "cell_type": "markdown",
   "metadata": {},
   "source": [
    "### MultiPattern and If guards"
   ]
  },
  {
   "cell_type": "code",
   "execution_count": 54,
   "metadata": {},
   "outputs": [
    {
     "data": {
      "text/plain": [
       "matchListAdv: (lst: List[Any])String\n"
      ]
     },
     "execution_count": 54,
     "metadata": {},
     "output_type": "execute_result"
    }
   ],
   "source": [
    "def matchListAdv(lst:List[Any])=lst match {\n",
    "    case List(1,_,_,_) |  List(4,_,_,_) => \"The list has 1 or 4  in starting pos and has 4 cols\"\n",
    "    case List(1,_*)  =>\"List starts with 1 and more args\"\n",
    "    case List(x,_*) if (x.asInstanceOf[Int] > 1) =>\"List starts with num>1 and more args\"\n",
    "    case _ => \"List is anything else\"\n",
    "}"
   ]
  },
  {
   "cell_type": "code",
   "execution_count": 70,
   "metadata": {},
   "outputs": [
    {
     "data": {
      "text/plain": [
       "res29: String = The list has 1 or 4  in starting pos and has 4 cols\n"
      ]
     },
     "execution_count": 70,
     "metadata": {},
     "output_type": "execute_result"
    }
   ],
   "source": [
    "matchListAdv(list1)"
   ]
  },
  {
   "cell_type": "code",
   "execution_count": 71,
   "metadata": {},
   "outputs": [
    {
     "data": {
      "text/plain": [
       "res30: String = The list has 1 or 4  in starting pos and has 4 cols\n"
      ]
     },
     "execution_count": 71,
     "metadata": {},
     "output_type": "execute_result"
    }
   ],
   "source": [
    "matchListAdv(list2)"
   ]
  },
  {
   "cell_type": "code",
   "execution_count": 72,
   "metadata": {},
   "outputs": [
    {
     "data": {
      "text/plain": [
       "res31: String = List starts with 1 and more args\n"
      ]
     },
     "execution_count": 72,
     "metadata": {},
     "output_type": "execute_result"
    }
   ],
   "source": [
    "matchListAdv(list3)"
   ]
  },
  {
   "cell_type": "code",
   "execution_count": 73,
   "metadata": {},
   "outputs": [
    {
     "data": {
      "text/plain": [
       "res32: String = List starts with num>1 and more args\n"
      ]
     },
     "execution_count": 73,
     "metadata": {},
     "output_type": "execute_result"
    }
   ],
   "source": [
    "matchListAdv(list5)"
   ]
  },
  {
   "cell_type": "code",
   "execution_count": null,
   "metadata": {},
   "outputs": [],
   "source": []
  }
 ],
 "metadata": {
  "kernelspec": {
   "display_name": "spylon-kernel",
   "language": "scala",
   "name": "spylon-kernel"
  },
  "language_info": {
   "codemirror_mode": "text/x-scala",
   "file_extension": ".scala",
   "help_links": [
    {
     "text": "MetaKernel Magics",
     "url": "https://metakernel.readthedocs.io/en/latest/source/README.html"
    }
   ],
   "mimetype": "text/x-scala",
   "name": "scala",
   "pygments_lexer": "scala",
   "version": "0.4.1"
  }
 },
 "nbformat": 4,
 "nbformat_minor": 2
}
