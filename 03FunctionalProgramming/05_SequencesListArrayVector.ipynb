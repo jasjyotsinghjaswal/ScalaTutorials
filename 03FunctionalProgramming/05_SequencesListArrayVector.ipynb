{
 "cells": [
  {
   "cell_type": "markdown",
   "metadata": {},
   "source": [
    "### Sequences"
   ]
  },
  {
   "cell_type": "code",
   "execution_count": 1,
   "metadata": {},
   "outputs": [
    {
     "data": {
      "text/plain": [
       "Intitializing Scala interpreter ..."
      ]
     },
     "metadata": {},
     "output_type": "display_data"
    },
    {
     "data": {
      "text/plain": [
       "Spark Web UI available at http://DESKTOP-01M6UVV:4040\n",
       "SparkContext available as 'sc' (version = 2.4.3, master = local[*], app id = local-1567235066138)\n",
       "SparkSession available as 'spark'\n"
      ]
     },
     "metadata": {},
     "output_type": "display_data"
    }
   ],
   "source": [
    "//Denoted by seq\n",
    "//INterface for Data structures that have well defined order and can be indexed"
   ]
  },
  {
   "cell_type": "code",
   "execution_count": 26,
   "metadata": {},
   "outputs": [
    {
     "data": {
      "text/plain": [
       "aSeq: Seq[Int] = List(1, 2, 4, 3)\r\n",
       "aList: List[Int] = List(1, 2, 4, 3)\n"
      ]
     },
     "execution_count": 26,
     "metadata": {},
     "output_type": "execute_result"
    }
   ],
   "source": [
    "val aSeq=Seq(1,2,4,3)\n",
    "val aList=List(1,2,4,3)"
   ]
  },
  {
   "cell_type": "code",
   "execution_count": 27,
   "metadata": {},
   "outputs": [
    {
     "name": "stdout",
     "output_type": "stream",
     "text": [
      "Seq reverse: List(3, 4, 2, 1)\n",
      "Seq @ 2: 4\n",
      "Sequence Concatenation : List(1, 2, 4, 3, 5, 6, 7)\n",
      "Sequence Sorted : List(1, 2, 3, 4)\n"
     ]
    }
   ],
   "source": [
    "println(\"Seq reverse: \"+aSeq.reverse)\n",
    "println(\"Seq @ 2: \"+aSeq(2))\n",
    "println(\"Sequence Concatenation : \"+(aSeq++Seq(5,6,7)))\n",
    "println(\"Sequence Sorted : \"+aSeq.sorted)"
   ]
  },
  {
   "cell_type": "markdown",
   "metadata": {},
   "source": [
    "### Range Using Sequneces"
   ]
  },
  {
   "cell_type": "code",
   "execution_count": 28,
   "metadata": {},
   "outputs": [
    {
     "data": {
      "text/plain": [
       "aRange: Seq[Int] = Range(1, 2, 3, 4, 5)\n"
      ]
     },
     "execution_count": 28,
     "metadata": {},
     "output_type": "execute_result"
    }
   ],
   "source": [
    "val aRange:Seq[Int]=1 to 5"
   ]
  },
  {
   "cell_type": "code",
   "execution_count": 24,
   "metadata": {},
   "outputs": [
    {
     "name": "stdout",
     "output_type": "stream",
     "text": [
      "1\n",
      "2\n",
      "3\n",
      "4\n",
      "5\n"
     ]
    }
   ],
   "source": [
    "aRange.foreach(println)"
   ]
  },
  {
   "cell_type": "markdown",
   "metadata": {},
   "source": [
    "### List"
   ]
  },
  {
   "cell_type": "code",
   "execution_count": 25,
   "metadata": {},
   "outputs": [],
   "source": [
    "//List are immutable and extend LinearSeq and is equivalent to Linked List"
   ]
  },
  {
   "cell_type": "code",
   "execution_count": 30,
   "metadata": {},
   "outputs": [
    {
     "data": {
      "text/plain": [
       "myList: List[Int] = List(1, 2, 4, 3)\n"
      ]
     },
     "execution_count": 30,
     "metadata": {},
     "output_type": "execute_result"
    }
   ],
   "source": [
    "val myList=List(1,2,4,3)"
   ]
  },
  {
   "cell_type": "code",
   "execution_count": 35,
   "metadata": {},
   "outputs": [
    {
     "name": "stdout",
     "output_type": "stream",
     "text": [
      "Prepend and Append to List : List(42, 1, 2, 4, 3, 57)\n",
      "List with repeated values : List(apple, apple, apple, apple, apple)\n",
      "List concatenated : 1-2-4-3\n"
     ]
    }
   ],
   "source": [
    "println(\"Prepend and Append to List : \"+(42+:myList:+57))\n",
    "println(\"List with repeated values : \"+List.fill(5)(\"apple\"))\n",
    "println(\"List concatenated : \"+myList.mkString(\"-\"))"
   ]
  },
  {
   "cell_type": "markdown",
   "metadata": {},
   "source": [
    "### Arrays"
   ]
  },
  {
   "cell_type": "code",
   "execution_count": 38,
   "metadata": {},
   "outputs": [],
   "source": [
    "//can be constructed with predefined length and can be mutated\n",
    "//Seq in the background\n",
    "//Arrays are initialised with a value based on type"
   ]
  },
  {
   "cell_type": "code",
   "execution_count": 39,
   "metadata": {},
   "outputs": [
    {
     "data": {
      "text/plain": [
       "numArr: Array[Int] = Array(3, 6, 2, 1)\n"
      ]
     },
     "execution_count": 39,
     "metadata": {},
     "output_type": "execute_result"
    }
   ],
   "source": [
    "val numArr=Array(3,6,2,1)\n"
   ]
  },
  {
   "cell_type": "code",
   "execution_count": 40,
   "metadata": {},
   "outputs": [
    {
     "data": {
      "text/plain": [
       "iniArr: Array[String] = Array(null, null, null, null, null)\n"
      ]
     },
     "execution_count": 40,
     "metadata": {},
     "output_type": "execute_result"
    }
   ],
   "source": [
    "val iniArr=Array.ofDim[String](5)"
   ]
  },
  {
   "cell_type": "code",
   "execution_count": 43,
   "metadata": {},
   "outputs": [
    {
     "data": {
      "text/plain": [
       "res24: Array[Int] = Array(3, 6, 2, 83)\n"
      ]
     },
     "execution_count": 43,
     "metadata": {},
     "output_type": "execute_result"
    }
   ],
   "source": [
    "numArr(3)=83\n",
    "numArr"
   ]
  },
  {
   "cell_type": "markdown",
   "metadata": {},
   "source": [
    "### Arrays And Sequences"
   ]
  },
  {
   "cell_type": "code",
   "execution_count": 44,
   "metadata": {},
   "outputs": [
    {
     "data": {
      "text/plain": [
       "numSeq: Seq[Int] = WrappedArray(3, 6, 2, 83)\n"
      ]
     },
     "execution_count": 44,
     "metadata": {},
     "output_type": "execute_result"
    }
   ],
   "source": [
    "val numSeq:Seq[Int]=numArr"
   ]
  },
  {
   "cell_type": "markdown",
   "metadata": {},
   "source": [
    "### Vector"
   ]
  },
  {
   "cell_type": "code",
   "execution_count": 49,
   "metadata": {},
   "outputs": [],
   "source": [
    "//good performance for larger size\n",
    "//fast element addition \n",
    "//default implementation for immutable seq\n",
    "//It’s faster than List for almost everything and more memory-efficient for larger-than-trivial sized sequences. \n",
    "//Updates at the head are slower than List (though not by as much as you might think)"
   ]
  },
  {
   "cell_type": "code",
   "execution_count": 50,
   "metadata": {},
   "outputs": [
    {
     "data": {
      "text/plain": [
       "vector: Vector[Int] = Vector(1, 2, 4)\n"
      ]
     },
     "execution_count": 50,
     "metadata": {},
     "output_type": "execute_result"
    }
   ],
   "source": [
    "val vector:Vector[Int]=Vector(1,2,4)"
   ]
  },
  {
   "cell_type": "code",
   "execution_count": null,
   "metadata": {},
   "outputs": [],
   "source": []
  }
 ],
 "metadata": {
  "kernelspec": {
   "display_name": "spylon-kernel",
   "language": "scala",
   "name": "spylon-kernel"
  },
  "language_info": {
   "codemirror_mode": "text/x-scala",
   "file_extension": ".scala",
   "help_links": [
    {
     "text": "MetaKernel Magics",
     "url": "https://metakernel.readthedocs.io/en/latest/source/README.html"
    }
   ],
   "mimetype": "text/x-scala",
   "name": "scala",
   "pygments_lexer": "scala",
   "version": "0.4.1"
  }
 },
 "nbformat": 4,
 "nbformat_minor": 2
}
