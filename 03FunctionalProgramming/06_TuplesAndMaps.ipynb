{
 "cells": [
  {
   "cell_type": "markdown",
   "metadata": {},
   "source": [
    "### Tuple2[Int,String]"
   ]
  },
  {
   "cell_type": "code",
   "execution_count": 2,
   "metadata": {},
   "outputs": [
    {
     "data": {
      "text/plain": [
       "aTuple: (Int, String) = (3,Hello)\n"
      ]
     },
     "execution_count": 2,
     "metadata": {},
     "output_type": "execute_result"
    }
   ],
   "source": [
    "val aTuple=new Tuple2[Int,String](3,\"Hello\")"
   ]
  },
  {
   "cell_type": "code",
   "execution_count": 3,
   "metadata": {},
   "outputs": [
    {
     "data": {
      "text/plain": [
       "bTuple: (Int, String) = (45,NewSTring)\n"
      ]
     },
     "execution_count": 3,
     "metadata": {},
     "output_type": "execute_result"
    }
   ],
   "source": [
    "val bTuple=(45,\"NewSTring\")"
   ]
  },
  {
   "cell_type": "code",
   "execution_count": 6,
   "metadata": {},
   "outputs": [
    {
     "name": "stdout",
     "output_type": "stream",
     "text": [
      "Access 1st ele: 3\n",
      "Swap Tuple: (Hello,3)\n",
      "Modify Tuple: (3,HelloMOdify)\n"
     ]
    }
   ],
   "source": [
    "println(\"Access 1st ele: \"+aTuple._1)\n",
    "println(\"Swap Tuple: \"+aTuple.swap)\n",
    "println(\"Modify Tuple: \"+aTuple.copy(_2=\"HelloMOdify\"))"
   ]
  },
  {
   "cell_type": "markdown",
   "metadata": {},
   "source": [
    "### Maps"
   ]
  },
  {
   "cell_type": "code",
   "execution_count": 11,
   "metadata": {},
   "outputs": [
    {
     "data": {
      "text/plain": [
       "phnBk1: Map[String,Int] = Map(Dharam -> 908888627, Sankar -> 43228911)\n"
      ]
     },
     "execution_count": 11,
     "metadata": {},
     "output_type": "execute_result"
    }
   ],
   "source": [
    "val phnBk1:Map[String,Int]=Map((\"Dharam\",908888627),(\"Sankar\",43228911))"
   ]
  },
  {
   "cell_type": "code",
   "execution_count": 19,
   "metadata": {},
   "outputs": [
    {
     "data": {
      "text/plain": [
       "phnBk2: scala.collection.immutable.Map[String,Int] = Map(Dharam -> 908888627, Sankar -> 43228911)\n"
      ]
     },
     "execution_count": 19,
     "metadata": {},
     "output_type": "execute_result"
    }
   ],
   "source": [
    "val phnBk2=Map(\"Dharam\"->908888627,\"Sankar\"-> 43228911).withDefaultValue(-1)"
   ]
  },
  {
   "cell_type": "code",
   "execution_count": 16,
   "metadata": {},
   "outputs": [
    {
     "name": "stdout",
     "output_type": "stream",
     "text": [
      "Accessing Dharams Phone: 908888627\n"
     ]
    }
   ],
   "source": [
    "println(\"Accessing Dharams Phone: \"+phnBk1(\"Dharam\"))"
   ]
  },
  {
   "cell_type": "code",
   "execution_count": 17,
   "metadata": {},
   "outputs": [
    {
     "name": "stdout",
     "output_type": "stream",
     "text": [
      "Check if a key exists : true\n"
     ]
    }
   ],
   "source": [
    "println(\"Check if a key exists : \"+phnBk1.contains(\"Dharam\"))"
   ]
  },
  {
   "cell_type": "code",
   "execution_count": 18,
   "metadata": {},
   "outputs": [
    {
     "ename": "java.util.NoSuchElementException",
     "evalue": " key not found: Suvam\r",
     "output_type": "error",
     "traceback": [
      "java.util.NoSuchElementException: key not found: Suvam\r",
      "  at scala.collection.MapLike$class.default(MapLike.scala:228)\r",
      "  at scala.collection.AbstractMap.default(Map.scala:59)\r",
      "  at scala.collection.MapLike$class.apply(MapLike.scala:141)\r",
      "  at scala.collection.AbstractMap.apply(Map.scala:59)\r",
      "  ... 36 elided",
      ""
     ]
    }
   ],
   "source": [
    "//Failure when key does not exist\n",
    "phnBk1(\"Suvam\")"
   ]
  },
  {
   "cell_type": "code",
   "execution_count": 21,
   "metadata": {},
   "outputs": [
    {
     "data": {
      "text/plain": [
       "res10: Int = -1\n"
      ]
     },
     "execution_count": 21,
     "metadata": {},
     "output_type": "execute_result"
    }
   ],
   "source": [
    "//Preventing failure by supplying default values to Map\n",
    "phnBk2(\"Suvam\")"
   ]
  },
  {
   "cell_type": "code",
   "execution_count": 37,
   "metadata": {},
   "outputs": [
    {
     "data": {
      "text/plain": [
       "newPairing: Map[String,Int] = Map(Dharam -> 908888627, Sankar -> 43228911, Geeta -> 9998994)\n"
      ]
     },
     "execution_count": 37,
     "metadata": {},
     "output_type": "execute_result"
    }
   ],
   "source": [
    "//Add a Pairing\n",
    "val newPairing:Map[String,Int]= phnBk2+(\"Geeta\"->9998994)"
   ]
  },
  {
   "cell_type": "code",
   "execution_count": 35,
   "metadata": {},
   "outputs": [
    {
     "data": {
      "text/plain": [
       "res11: (String, Int) = (Geeta,9998994)\n"
      ]
     },
     "execution_count": 35,
     "metadata": {},
     "output_type": "execute_result"
    }
   ],
   "source": [
    "(\"Geeta\"->9998994)"
   ]
  },
  {
   "cell_type": "code",
   "execution_count": 41,
   "metadata": {},
   "outputs": [
    {
     "data": {
      "text/plain": [
       "res15: scala.collection.immutable.Map[String,Int] = Map(dharam -> 908888627, sankar -> 43228911, geeta -> 9998994)\n"
      ]
     },
     "execution_count": 41,
     "metadata": {},
     "output_type": "execute_result"
    }
   ],
   "source": [
    "//Use Map function on Map and turn key to lowercase\n",
    "newPairing.map(pair=>(pair._1.toLowerCase,pair._2))"
   ]
  },
  {
   "cell_type": "code",
   "execution_count": 43,
   "metadata": {},
   "outputs": [
    {
     "data": {
      "text/plain": [
       "res16: scala.collection.immutable.Map[String,Int] = Map(Sankar -> 43228911)\n"
      ]
     },
     "execution_count": 43,
     "metadata": {},
     "output_type": "execute_result"
    }
   ],
   "source": [
    "//FilterMaps\n",
    "newPairing.filter(pair=>(pair._1.startsWith(\"S\")))"
   ]
  },
  {
   "cell_type": "code",
   "execution_count": 49,
   "metadata": {},
   "outputs": [
    {
     "data": {
      "text/plain": [
       "res22: scala.collection.immutable.Map[String,Int] = Map(Dharam -> 908888626, Sankar -> 43228910, Geeta -> 9998993)\n"
      ]
     },
     "execution_count": 49,
     "metadata": {},
     "output_type": "execute_result"
    }
   ],
   "source": [
    "//Map values\n",
    "newPairing.mapValues(pairVal=>(pairVal-1))"
   ]
  },
  {
   "cell_type": "code",
   "execution_count": 50,
   "metadata": {},
   "outputs": [
    {
     "data": {
      "text/plain": [
       "res23: List[(String, Int)] = List((Dharam,908888627), (Sankar,43228911), (Geeta,9998994))\n"
      ]
     },
     "execution_count": 50,
     "metadata": {},
     "output_type": "execute_result"
    }
   ],
   "source": [
    "//Conversion of Map to List\n",
    "newPairing.toList"
   ]
  },
  {
   "cell_type": "code",
   "execution_count": 52,
   "metadata": {},
   "outputs": [
    {
     "data": {
      "text/plain": [
       "res25: scala.collection.immutable.Map[String,Int] = Map(Dharam -> 908888627, Sankar -> 43228911, Geeta -> 9998994)\n"
      ]
     },
     "execution_count": 52,
     "metadata": {},
     "output_type": "execute_result"
    }
   ],
   "source": [
    "//List of Tuples to Map\n",
    "List((\"Dharam\",908888627), (\"Sankar\",43228911), (\"Geeta\",9998994)).toMap"
   ]
  },
  {
   "cell_type": "code",
   "execution_count": 55,
   "metadata": {},
   "outputs": [
    {
     "data": {
      "text/plain": [
       "listNames: List[String] = List(sankar, suvam, dharam, suman)\r\n",
       "res27: scala.collection.immutable.Map[Char,List[String]] = Map(s -> List(sankar, suvam, suman), d -> List(dharam))\n"
      ]
     },
     "execution_count": 55,
     "metadata": {},
     "output_type": "execute_result"
    }
   ],
   "source": [
    "//Using groupBy and creating a Map \n",
    "val listNames=List(\"sankar\",\"suvam\",\"dharam\",\"suman\")\n",
    "listNames.groupBy(names=>names.charAt(0))"
   ]
  },
  {
   "cell_type": "code",
   "execution_count": null,
   "metadata": {},
   "outputs": [],
   "source": []
  }
 ],
 "metadata": {
  "kernelspec": {
   "display_name": "spylon-kernel",
   "language": "scala",
   "name": "spylon-kernel"
  },
  "language_info": {
   "codemirror_mode": "text/x-scala",
   "file_extension": ".scala",
   "help_links": [
    {
     "text": "MetaKernel Magics",
     "url": "https://metakernel.readthedocs.io/en/latest/source/README.html"
    }
   ],
   "mimetype": "text/x-scala",
   "name": "scala",
   "pygments_lexer": "scala",
   "version": "0.4.1"
  }
 },
 "nbformat": 4,
 "nbformat_minor": 2
}
